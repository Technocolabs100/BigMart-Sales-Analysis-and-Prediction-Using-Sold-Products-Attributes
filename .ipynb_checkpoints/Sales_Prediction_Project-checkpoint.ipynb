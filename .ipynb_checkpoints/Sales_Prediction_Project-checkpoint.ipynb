{
 "cells": [
  {
   "cell_type": "markdown",
   "id": "404eecb6-5ff8-484f-9c56-a666537186fe",
   "metadata": {},
   "source": [
    "# BigMart Sales Prediction Analysis"
   ]
  },
  {
   "cell_type": "markdown",
   "id": "edf90e7a-4cbe-472b-8b7e-74130b25aed6",
   "metadata": {},
   "source": [
    "<p><b>Problem Statement</b> :The aim of this data science project is to build a predictive model and find out the sales of each product at a particular store.<br>\n",
    "<b>Objective of the Project</b> : BigMart will try to understand the properties of products and stores which play a key role in increasing sales.</p>"
   ]
  },
  {
   "cell_type": "markdown",
   "id": "a10c63e1-f277-4570-87ef-c7dd21a47fd2",
   "metadata": {},
   "source": [
    "<h2>Descriptions</h2>\n",
    "<b></b><ul>\n",
    "<li><b>Item_Identifier:</b>  Unique product ID</li>\n",
    "\n",
    "<li><b>Item_Weight:</b> Weight of product</li>\n",
    "\n",
    "<li><b>Item_Fat_Content:</b> Whether the product is low fat or not</li>\n",
    "\n",
    "<li><b>Item_Visibility:</b> The % of total display area of all products in a store allocated to the particular product</li>\n",
    "\n",
    "<li><b>Item_Type:</b> The category to which the product belongs</li>\n",
    "\n",
    "<li><b>Item_MRP:</b> Maximum Retail Price (list price) of the product</li>\n",
    "\n",
    "<li><b>Outlet_Identifier:</b> Unique store ID</li>\n",
    "\n",
    "<li><b>Outlet_Establishment_Year: </b> The year in which store was established</li>\n",
    "\n",
    "<li><b>Outlet_Size:</b> The size of the store in terms of ground area covered</li>\n",
    "\n",
    "<li><b>Outlet_Location_Type:</b> The type of city in which the store is located</li>\n",
    "\n",
    "<li><b>Outlet_Type:</b> Whether the outlet is just a grocery store or some sort of supermarket</li>\n",
    "\n",
    "<li><b>Item_Outlet_Sales:</b> Sales of the product in the particulat store. This is the outcome variable to be predicted.</li></b>\n",
    "</ul>"
   ]
  },
  {
   "cell_type": "markdown",
   "id": "523becba-0bf1-4713-8e67-78900613e4b3",
   "metadata": {},
   "source": [
    "<ul>\n",
    "<li><b>Using Supervised Learning</b></li>\n",
    "<li><b>Target Variable is : Item_Outlet_Sales(Continuous Numerical Variable)</b></li></ul>"
   ]
  },
  {
   "cell_type": "markdown",
   "id": "14a390bd-c7f5-4c42-8845-230f430ce211",
   "metadata": {},
   "source": [
    "<h2>Loading the Modules or Packages</h2>"
   ]
  },
  {
   "cell_type": "code",
   "execution_count": 1,
   "id": "009bcf49-a16a-403a-91c5-0bff9bae0b9b",
   "metadata": {},
   "outputs": [],
   "source": [
    "#Numerical Processing\n",
    "import numpy as np\n",
    "\n",
    "#Data Processing\n",
    "import pandas as pd\n",
    "\n",
    "#Data Visualization\n",
    "import matplotlib.pyplot as plt\n",
    "%matplotlib inline\n",
    "import seaborn as sb\n",
    "\n",
    "#For LabelEncoding\n",
    "from sklearn.preprocessing import LabelEncoder\n",
    "\n",
    "#For train_test_split\n",
    "from sklearn.model_selection import train_test_split\n",
    "\n",
    "#Performance Metrics\n",
    "from sklearn import metrics\n",
    "from sklearn.metrics import mean_absolute_error\n",
    "from sklearn.metrics import accuracy_score\n",
    "from sklearn.metrics import r2_score\n",
    "\n",
    "#Models\n",
    "#RandomForest Regressor\n",
    "from sklearn.ensemble import RandomForestRegressor\n",
    "from sklearn.model_selection import cross_val_score\n",
    "\n",
    "#XGBRegressor\n",
    "from xgboost import XGBRegressor\n",
    "from xgboost import XGBRFRegressor"
   ]
  },
  {
   "cell_type": "markdown",
   "id": "36c055b0-4389-418b-9424-9bea308d7e73",
   "metadata": {},
   "source": [
    "<h3>Loading the Test/Train Datasets</h3>"
   ]
  },
  {
   "cell_type": "code",
   "execution_count": 2,
   "id": "5da35625-a3b4-44f5-a124-1874046e3c59",
   "metadata": {},
   "outputs": [],
   "source": [
    "Train = pd.read_csv('Train.csv')\n",
    "Test = pd.read_csv('Test.csv')"
   ]
  },
  {
   "cell_type": "markdown",
   "id": "604a0c42-d5cc-45fc-83b6-410ad25b5dc7",
   "metadata": {},
   "source": [
    "<h3>Analysing the Datasets</h3>"
   ]
  },
  {
   "cell_type": "code",
   "execution_count": 3,
   "id": "7eb991f2-b1ba-4e70-9eda-1059f17ad09d",
   "metadata": {},
   "outputs": [
    {
     "name": "stdout",
     "output_type": "stream",
     "text": [
      "<class 'pandas.core.frame.DataFrame'>\n",
      "RangeIndex: 8523 entries, 0 to 8522\n",
      "Data columns (total 13 columns):\n",
      " #   Column                     Non-Null Count  Dtype  \n",
      "---  ------                     --------------  -----  \n",
      " 0   Item_Identifier            8523 non-null   object \n",
      " 1   Item_Weight                7060 non-null   float64\n",
      " 2   Item_Fat_Content           8523 non-null   object \n",
      " 3   Item_Visibility            8523 non-null   float64\n",
      " 4   Item_Type                  8523 non-null   object \n",
      " 5   Item_MRP                   8523 non-null   float64\n",
      " 6   Outlet_Identifier          8523 non-null   object \n",
      " 7   Outlet_Establishment_Year  8523 non-null   int64  \n",
      " 8   Outlet_Size                6113 non-null   object \n",
      " 9   Outlet_Location_Type       8523 non-null   object \n",
      " 10  Outlet_Type                8523 non-null   object \n",
      " 11  Item_Outlet_Sales          8523 non-null   float64\n",
      " 12  source                     8523 non-null   object \n",
      "dtypes: float64(4), int64(1), object(8)\n",
      "memory usage: 865.7+ KB\n",
      "None\n",
      "--------------------------------------------------\n",
      "<class 'pandas.core.frame.DataFrame'>\n",
      "RangeIndex: 5681 entries, 0 to 5680\n",
      "Data columns (total 13 columns):\n",
      " #   Column                     Non-Null Count  Dtype  \n",
      "---  ------                     --------------  -----  \n",
      " 0   Item_Identifier            5681 non-null   object \n",
      " 1   Item_Weight                4705 non-null   float64\n",
      " 2   Item_Fat_Content           5681 non-null   object \n",
      " 3   Item_Visibility            5681 non-null   float64\n",
      " 4   Item_Type                  5681 non-null   object \n",
      " 5   Item_MRP                   5681 non-null   float64\n",
      " 6   Outlet_Identifier          5681 non-null   object \n",
      " 7   Outlet_Establishment_Year  5681 non-null   int64  \n",
      " 8   Outlet_Size                4075 non-null   object \n",
      " 9   Outlet_Location_Type       5681 non-null   object \n",
      " 10  Outlet_Type                5681 non-null   object \n",
      " 11  Item_Outlet_Sales          5681 non-null   int64  \n",
      " 12  source                     5681 non-null   object \n",
      "dtypes: float64(3), int64(2), object(8)\n",
      "memory usage: 577.1+ KB\n",
      "None\n"
     ]
    }
   ],
   "source": [
    "print(Train.info())\n",
    "print('--------------------------------------------------')\n",
    "print(Test.info())"
   ]
  },
  {
   "cell_type": "code",
   "execution_count": 4,
   "id": "d76e5689-3eaf-40dc-820d-480ae08b4886",
   "metadata": {},
   "outputs": [
    {
     "name": "stdout",
     "output_type": "stream",
     "text": [
      "Shape of Tain Data: (8523, 13)\n",
      "Columns of Tain Data: Index(['Item_Identifier', 'Item_Weight', 'Item_Fat_Content', 'Item_Visibility',\n",
      "       'Item_Type', 'Item_MRP', 'Outlet_Identifier',\n",
      "       'Outlet_Establishment_Year', 'Outlet_Size', 'Outlet_Location_Type',\n",
      "       'Outlet_Type', 'Item_Outlet_Sales', 'source'],\n",
      "      dtype='object')\n",
      "--------------------------------------------------\n",
      "Shape of Test Data: (5681, 13)\n",
      "Columns of Test Data: Index(['Item_Identifier', 'Item_Weight', 'Item_Fat_Content', 'Item_Visibility',\n",
      "       'Item_Type', 'Item_MRP', 'Outlet_Identifier',\n",
      "       'Outlet_Establishment_Year', 'Outlet_Size', 'Outlet_Location_Type',\n",
      "       'Outlet_Type', 'Item_Outlet_Sales', 'source'],\n",
      "      dtype='object')\n"
     ]
    }
   ],
   "source": [
    "print('Shape of Tain Data:',Train.shape)\n",
    "print('Columns of Tain Data:',Train.columns)\n",
    "print('--------------------------------------------------')\n",
    "print('Shape of Test Data:',Test.shape)\n",
    "print('Columns of Test Data:',Test.columns)"
   ]
  },
  {
   "cell_type": "markdown",
   "id": "3147b923-e9bb-456e-b4b1-e2babd078108",
   "metadata": {},
   "source": [
    "<h3>Combinig The 2 Datasets</h3>"
   ]
  },
  {
   "cell_type": "code",
   "execution_count": 5,
   "id": "f38b3282-dfca-4253-8a8a-9a159fba8839",
   "metadata": {},
   "outputs": [
    {
     "name": "stdout",
     "output_type": "stream",
     "text": [
      "<class 'pandas.core.frame.DataFrame'>\n",
      "Index: 14204 entries, 0 to 5680\n",
      "Data columns (total 13 columns):\n",
      " #   Column                     Non-Null Count  Dtype  \n",
      "---  ------                     --------------  -----  \n",
      " 0   Item_Identifier            14204 non-null  object \n",
      " 1   Item_Weight                11765 non-null  float64\n",
      " 2   Item_Fat_Content           14204 non-null  object \n",
      " 3   Item_Visibility            14204 non-null  float64\n",
      " 4   Item_Type                  14204 non-null  object \n",
      " 5   Item_MRP                   14204 non-null  float64\n",
      " 6   Outlet_Identifier          14204 non-null  object \n",
      " 7   Outlet_Establishment_Year  14204 non-null  int64  \n",
      " 8   Outlet_Size                10188 non-null  object \n",
      " 9   Outlet_Location_Type       14204 non-null  object \n",
      " 10  Outlet_Type                14204 non-null  object \n",
      " 11  Item_Outlet_Sales          14204 non-null  float64\n",
      " 12  source                     14204 non-null  object \n",
      "dtypes: float64(4), int64(1), object(8)\n",
      "memory usage: 1.5+ MB\n",
      "None\n",
      "Shape of combined Data: (14204, 13)\n",
      "------------------------------------------------\n",
      "Columns of combined Data: Index(['Item_Identifier', 'Item_Weight', 'Item_Fat_Content', 'Item_Visibility',\n",
      "       'Item_Type', 'Item_MRP', 'Outlet_Identifier',\n",
      "       'Outlet_Establishment_Year', 'Outlet_Size', 'Outlet_Location_Type',\n",
      "       'Outlet_Type', 'Item_Outlet_Sales', 'source'],\n",
      "      dtype='object')\n"
     ]
    }
   ],
   "source": [
    "#Combining the datasets\n",
    "df = pd.concat([Train, Test], sort = False)\n",
    "print(df.info())\n",
    "print('Shape of combined Data:',df.shape)\n",
    "print('------------------------------------------------')\n",
    "print('Columns of combined Data:',df.columns)"
   ]
  },
  {
   "cell_type": "code",
   "execution_count": 6,
   "id": "dc7203e0-4736-46de-8fdb-f598dc51dc23",
   "metadata": {},
   "outputs": [
    {
     "name": "stdout",
     "output_type": "stream",
     "text": [
      "Target Variable:Item Outlet Sales\n"
     ]
    },
    {
     "data": {
      "text/plain": [
       "count    14204.000000\n",
       "mean      1308.865489\n",
       "std       1699.791423\n",
       "min          0.000000\n",
       "25%          0.000000\n",
       "50%        559.272000\n",
       "75%       2163.184200\n",
       "max      13086.964800\n",
       "Name: Item_Outlet_Sales, dtype: float64"
      ]
     },
     "execution_count": 6,
     "metadata": {},
     "output_type": "execute_result"
    }
   ],
   "source": [
    "print('Target Variable:Item Outlet Sales')\n",
    "\n",
    "df['Item_Outlet_Sales'].describe()"
   ]
  },
  {
   "cell_type": "code",
   "execution_count": 7,
   "id": "ab3bd86d-0b9c-4575-8628-951c21900945",
   "metadata": {},
   "outputs": [
    {
     "data": {
      "text/html": [
       "<div>\n",
       "<style scoped>\n",
       "    .dataframe tbody tr th:only-of-type {\n",
       "        vertical-align: middle;\n",
       "    }\n",
       "\n",
       "    .dataframe tbody tr th {\n",
       "        vertical-align: top;\n",
       "    }\n",
       "\n",
       "    .dataframe thead th {\n",
       "        text-align: right;\n",
       "    }\n",
       "</style>\n",
       "<table border=\"1\" class=\"dataframe\">\n",
       "  <thead>\n",
       "    <tr style=\"text-align: right;\">\n",
       "      <th></th>\n",
       "      <th>Item_Identifier</th>\n",
       "      <th>Item_Weight</th>\n",
       "      <th>Item_Fat_Content</th>\n",
       "      <th>Item_Visibility</th>\n",
       "      <th>Item_Type</th>\n",
       "      <th>Item_MRP</th>\n",
       "      <th>Outlet_Identifier</th>\n",
       "      <th>Outlet_Establishment_Year</th>\n",
       "      <th>Outlet_Size</th>\n",
       "      <th>Outlet_Location_Type</th>\n",
       "      <th>Outlet_Type</th>\n",
       "      <th>Item_Outlet_Sales</th>\n",
       "      <th>source</th>\n",
       "    </tr>\n",
       "  </thead>\n",
       "  <tbody>\n",
       "    <tr>\n",
       "      <th>0</th>\n",
       "      <td>FDA15</td>\n",
       "      <td>9.30</td>\n",
       "      <td>Low Fat</td>\n",
       "      <td>0.016047</td>\n",
       "      <td>Dairy</td>\n",
       "      <td>249.8092</td>\n",
       "      <td>OUT049</td>\n",
       "      <td>1999</td>\n",
       "      <td>Medium</td>\n",
       "      <td>Tier 1</td>\n",
       "      <td>Supermarket Type1</td>\n",
       "      <td>3735.1380</td>\n",
       "      <td>train</td>\n",
       "    </tr>\n",
       "    <tr>\n",
       "      <th>1</th>\n",
       "      <td>DRC01</td>\n",
       "      <td>5.92</td>\n",
       "      <td>Regular</td>\n",
       "      <td>0.019278</td>\n",
       "      <td>Soft Drinks</td>\n",
       "      <td>48.2692</td>\n",
       "      <td>OUT018</td>\n",
       "      <td>2009</td>\n",
       "      <td>Medium</td>\n",
       "      <td>Tier 3</td>\n",
       "      <td>Supermarket Type2</td>\n",
       "      <td>443.4228</td>\n",
       "      <td>train</td>\n",
       "    </tr>\n",
       "    <tr>\n",
       "      <th>2</th>\n",
       "      <td>FDN15</td>\n",
       "      <td>17.50</td>\n",
       "      <td>Low Fat</td>\n",
       "      <td>0.016760</td>\n",
       "      <td>Meat</td>\n",
       "      <td>141.6180</td>\n",
       "      <td>OUT049</td>\n",
       "      <td>1999</td>\n",
       "      <td>Medium</td>\n",
       "      <td>Tier 1</td>\n",
       "      <td>Supermarket Type1</td>\n",
       "      <td>2097.2700</td>\n",
       "      <td>train</td>\n",
       "    </tr>\n",
       "    <tr>\n",
       "      <th>3</th>\n",
       "      <td>FDX07</td>\n",
       "      <td>19.20</td>\n",
       "      <td>Regular</td>\n",
       "      <td>0.000000</td>\n",
       "      <td>Fruits and Vegetables</td>\n",
       "      <td>182.0950</td>\n",
       "      <td>OUT010</td>\n",
       "      <td>1998</td>\n",
       "      <td>NaN</td>\n",
       "      <td>Tier 3</td>\n",
       "      <td>Grocery Store</td>\n",
       "      <td>732.3800</td>\n",
       "      <td>train</td>\n",
       "    </tr>\n",
       "    <tr>\n",
       "      <th>4</th>\n",
       "      <td>NCD19</td>\n",
       "      <td>8.93</td>\n",
       "      <td>Low Fat</td>\n",
       "      <td>0.000000</td>\n",
       "      <td>Household</td>\n",
       "      <td>53.8614</td>\n",
       "      <td>OUT013</td>\n",
       "      <td>1987</td>\n",
       "      <td>High</td>\n",
       "      <td>Tier 3</td>\n",
       "      <td>Supermarket Type1</td>\n",
       "      <td>994.7052</td>\n",
       "      <td>train</td>\n",
       "    </tr>\n",
       "  </tbody>\n",
       "</table>\n",
       "</div>"
      ],
      "text/plain": [
       "  Item_Identifier  Item_Weight Item_Fat_Content  Item_Visibility  \\\n",
       "0           FDA15         9.30          Low Fat         0.016047   \n",
       "1           DRC01         5.92          Regular         0.019278   \n",
       "2           FDN15        17.50          Low Fat         0.016760   \n",
       "3           FDX07        19.20          Regular         0.000000   \n",
       "4           NCD19         8.93          Low Fat         0.000000   \n",
       "\n",
       "               Item_Type  Item_MRP Outlet_Identifier  \\\n",
       "0                  Dairy  249.8092            OUT049   \n",
       "1            Soft Drinks   48.2692            OUT018   \n",
       "2                   Meat  141.6180            OUT049   \n",
       "3  Fruits and Vegetables  182.0950            OUT010   \n",
       "4              Household   53.8614            OUT013   \n",
       "\n",
       "   Outlet_Establishment_Year Outlet_Size Outlet_Location_Type  \\\n",
       "0                       1999      Medium               Tier 1   \n",
       "1                       2009      Medium               Tier 3   \n",
       "2                       1999      Medium               Tier 1   \n",
       "3                       1998         NaN               Tier 3   \n",
       "4                       1987        High               Tier 3   \n",
       "\n",
       "         Outlet_Type  Item_Outlet_Sales source  \n",
       "0  Supermarket Type1          3735.1380  train  \n",
       "1  Supermarket Type2           443.4228  train  \n",
       "2  Supermarket Type1          2097.2700  train  \n",
       "3      Grocery Store           732.3800  train  \n",
       "4  Supermarket Type1           994.7052  train  "
      ]
     },
     "execution_count": 7,
     "metadata": {},
     "output_type": "execute_result"
    }
   ],
   "source": [
    "\n",
    "df.head()"
   ]
  },
  {
   "cell_type": "code",
   "execution_count": 8,
   "id": "9cacb32a-3677-42d7-b3e5-d10c5fa618f7",
   "metadata": {},
   "outputs": [
    {
     "data": {
      "text/html": [
       "<div>\n",
       "<style scoped>\n",
       "    .dataframe tbody tr th:only-of-type {\n",
       "        vertical-align: middle;\n",
       "    }\n",
       "\n",
       "    .dataframe tbody tr th {\n",
       "        vertical-align: top;\n",
       "    }\n",
       "\n",
       "    .dataframe thead th {\n",
       "        text-align: right;\n",
       "    }\n",
       "</style>\n",
       "<table border=\"1\" class=\"dataframe\">\n",
       "  <thead>\n",
       "    <tr style=\"text-align: right;\">\n",
       "      <th></th>\n",
       "      <th>Item_Identifier</th>\n",
       "      <th>Item_Weight</th>\n",
       "      <th>Item_Fat_Content</th>\n",
       "      <th>Item_Visibility</th>\n",
       "      <th>Item_Type</th>\n",
       "      <th>Item_MRP</th>\n",
       "      <th>Outlet_Identifier</th>\n",
       "      <th>Outlet_Establishment_Year</th>\n",
       "      <th>Outlet_Size</th>\n",
       "      <th>Outlet_Location_Type</th>\n",
       "      <th>Outlet_Type</th>\n",
       "      <th>Item_Outlet_Sales</th>\n",
       "      <th>source</th>\n",
       "    </tr>\n",
       "  </thead>\n",
       "  <tbody>\n",
       "    <tr>\n",
       "      <th>5676</th>\n",
       "      <td>FDB58</td>\n",
       "      <td>10.5</td>\n",
       "      <td>Regular</td>\n",
       "      <td>0.013496</td>\n",
       "      <td>Snack Foods</td>\n",
       "      <td>141.3154</td>\n",
       "      <td>OUT046</td>\n",
       "      <td>1997</td>\n",
       "      <td>Small</td>\n",
       "      <td>Tier 1</td>\n",
       "      <td>Supermarket Type1</td>\n",
       "      <td>0.0</td>\n",
       "      <td>test</td>\n",
       "    </tr>\n",
       "    <tr>\n",
       "      <th>5677</th>\n",
       "      <td>FDD47</td>\n",
       "      <td>7.6</td>\n",
       "      <td>Regular</td>\n",
       "      <td>0.142991</td>\n",
       "      <td>Starchy Foods</td>\n",
       "      <td>169.1448</td>\n",
       "      <td>OUT018</td>\n",
       "      <td>2009</td>\n",
       "      <td>Medium</td>\n",
       "      <td>Tier 3</td>\n",
       "      <td>Supermarket Type2</td>\n",
       "      <td>0.0</td>\n",
       "      <td>test</td>\n",
       "    </tr>\n",
       "    <tr>\n",
       "      <th>5678</th>\n",
       "      <td>NCO17</td>\n",
       "      <td>10.0</td>\n",
       "      <td>Low Fat</td>\n",
       "      <td>0.073529</td>\n",
       "      <td>Health and Hygiene</td>\n",
       "      <td>118.7440</td>\n",
       "      <td>OUT045</td>\n",
       "      <td>2002</td>\n",
       "      <td>NaN</td>\n",
       "      <td>Tier 2</td>\n",
       "      <td>Supermarket Type1</td>\n",
       "      <td>0.0</td>\n",
       "      <td>test</td>\n",
       "    </tr>\n",
       "    <tr>\n",
       "      <th>5679</th>\n",
       "      <td>FDJ26</td>\n",
       "      <td>15.3</td>\n",
       "      <td>Regular</td>\n",
       "      <td>0.000000</td>\n",
       "      <td>Canned</td>\n",
       "      <td>214.6218</td>\n",
       "      <td>OUT017</td>\n",
       "      <td>2007</td>\n",
       "      <td>NaN</td>\n",
       "      <td>Tier 2</td>\n",
       "      <td>Supermarket Type1</td>\n",
       "      <td>0.0</td>\n",
       "      <td>test</td>\n",
       "    </tr>\n",
       "    <tr>\n",
       "      <th>5680</th>\n",
       "      <td>FDU37</td>\n",
       "      <td>9.5</td>\n",
       "      <td>Regular</td>\n",
       "      <td>0.104720</td>\n",
       "      <td>Canned</td>\n",
       "      <td>79.7960</td>\n",
       "      <td>OUT045</td>\n",
       "      <td>2002</td>\n",
       "      <td>NaN</td>\n",
       "      <td>Tier 2</td>\n",
       "      <td>Supermarket Type1</td>\n",
       "      <td>0.0</td>\n",
       "      <td>test</td>\n",
       "    </tr>\n",
       "  </tbody>\n",
       "</table>\n",
       "</div>"
      ],
      "text/plain": [
       "     Item_Identifier  Item_Weight Item_Fat_Content  Item_Visibility  \\\n",
       "5676           FDB58         10.5          Regular         0.013496   \n",
       "5677           FDD47          7.6          Regular         0.142991   \n",
       "5678           NCO17         10.0          Low Fat         0.073529   \n",
       "5679           FDJ26         15.3          Regular         0.000000   \n",
       "5680           FDU37          9.5          Regular         0.104720   \n",
       "\n",
       "               Item_Type  Item_MRP Outlet_Identifier  \\\n",
       "5676         Snack Foods  141.3154            OUT046   \n",
       "5677       Starchy Foods  169.1448            OUT018   \n",
       "5678  Health and Hygiene  118.7440            OUT045   \n",
       "5679              Canned  214.6218            OUT017   \n",
       "5680              Canned   79.7960            OUT045   \n",
       "\n",
       "      Outlet_Establishment_Year Outlet_Size Outlet_Location_Type  \\\n",
       "5676                       1997       Small               Tier 1   \n",
       "5677                       2009      Medium               Tier 3   \n",
       "5678                       2002         NaN               Tier 2   \n",
       "5679                       2007         NaN               Tier 2   \n",
       "5680                       2002         NaN               Tier 2   \n",
       "\n",
       "            Outlet_Type  Item_Outlet_Sales source  \n",
       "5676  Supermarket Type1                0.0   test  \n",
       "5677  Supermarket Type2                0.0   test  \n",
       "5678  Supermarket Type1                0.0   test  \n",
       "5679  Supermarket Type1                0.0   test  \n",
       "5680  Supermarket Type1                0.0   test  "
      ]
     },
     "execution_count": 8,
     "metadata": {},
     "output_type": "execute_result"
    }
   ],
   "source": [
    "df.tail()"
   ]
  },
  {
   "cell_type": "code",
   "execution_count": 9,
   "id": "394085cb-2905-482b-915b-d1734e3e0f09",
   "metadata": {},
   "outputs": [
    {
     "data": {
      "text/plain": [
       "Item_Identifier               object\n",
       "Item_Weight                  float64\n",
       "Item_Fat_Content              object\n",
       "Item_Visibility              float64\n",
       "Item_Type                     object\n",
       "Item_MRP                     float64\n",
       "Outlet_Identifier             object\n",
       "Outlet_Establishment_Year      int64\n",
       "Outlet_Size                   object\n",
       "Outlet_Location_Type          object\n",
       "Outlet_Type                   object\n",
       "Item_Outlet_Sales            float64\n",
       "source                        object\n",
       "dtype: object"
      ]
     },
     "execution_count": 9,
     "metadata": {},
     "output_type": "execute_result"
    }
   ],
   "source": [
    "df.dtypes"
   ]
  },
  {
   "cell_type": "code",
   "execution_count": 10,
   "id": "4a9fa16b-190e-4a5c-b0ee-45be11e57655",
   "metadata": {},
   "outputs": [
    {
     "name": "stdout",
     "output_type": "stream",
     "text": [
      "Numerical Variables:\n",
      "Item_Weight                    415\n",
      "Item_Visibility              13006\n",
      "Item_MRP                      8052\n",
      "Outlet_Establishment_Year        9\n",
      "Item_Outlet_Sales             3494\n",
      "dtype: int64\n",
      "------------------------------------------------------\n",
      "Categorical Variables:\n",
      "Item_Identifier         1559\n",
      "Item_Fat_Content           5\n",
      "Item_Type                 16\n",
      "Outlet_Identifier         10\n",
      "Outlet_Size                3\n",
      "Outlet_Location_Type       3\n",
      "Outlet_Type                4\n",
      "source                     2\n",
      "dtype: int64\n"
     ]
    }
   ],
   "source": [
    "print('Numerical Variables:')\n",
    "print(df.select_dtypes(include = 'number').nunique())\n",
    "print('------------------------------------------------------')\n",
    "print('Categorical Variables:')\n",
    "print(df.select_dtypes(include = 'object').nunique())"
   ]
  },
  {
   "cell_type": "markdown",
   "id": "76df9746-ed2d-4bbe-b37b-c93a1716721c",
   "metadata": {},
   "source": [
    "<h3>Summary of Numerical Variables</h3>"
   ]
  },
  {
   "cell_type": "code",
   "execution_count": 11,
   "id": "77768cec-ebb6-4ae7-8d1f-9afef92e7bac",
   "metadata": {},
   "outputs": [
    {
     "data": {
      "text/html": [
       "<div>\n",
       "<style scoped>\n",
       "    .dataframe tbody tr th:only-of-type {\n",
       "        vertical-align: middle;\n",
       "    }\n",
       "\n",
       "    .dataframe tbody tr th {\n",
       "        vertical-align: top;\n",
       "    }\n",
       "\n",
       "    .dataframe thead th {\n",
       "        text-align: right;\n",
       "    }\n",
       "</style>\n",
       "<table border=\"1\" class=\"dataframe\">\n",
       "  <thead>\n",
       "    <tr style=\"text-align: right;\">\n",
       "      <th></th>\n",
       "      <th>Item_Weight</th>\n",
       "      <th>Item_Visibility</th>\n",
       "      <th>Item_MRP</th>\n",
       "      <th>Outlet_Establishment_Year</th>\n",
       "      <th>Item_Outlet_Sales</th>\n",
       "    </tr>\n",
       "  </thead>\n",
       "  <tbody>\n",
       "    <tr>\n",
       "      <th>count</th>\n",
       "      <td>11765.000000</td>\n",
       "      <td>14204.000000</td>\n",
       "      <td>14204.000000</td>\n",
       "      <td>14204.000000</td>\n",
       "      <td>14204.000000</td>\n",
       "    </tr>\n",
       "    <tr>\n",
       "      <th>mean</th>\n",
       "      <td>12.792854</td>\n",
       "      <td>0.065953</td>\n",
       "      <td>141.004977</td>\n",
       "      <td>1997.830681</td>\n",
       "      <td>1308.865489</td>\n",
       "    </tr>\n",
       "    <tr>\n",
       "      <th>std</th>\n",
       "      <td>4.652502</td>\n",
       "      <td>0.051459</td>\n",
       "      <td>62.086938</td>\n",
       "      <td>8.371664</td>\n",
       "      <td>1699.791423</td>\n",
       "    </tr>\n",
       "    <tr>\n",
       "      <th>min</th>\n",
       "      <td>4.555000</td>\n",
       "      <td>0.000000</td>\n",
       "      <td>31.290000</td>\n",
       "      <td>1985.000000</td>\n",
       "      <td>0.000000</td>\n",
       "    </tr>\n",
       "    <tr>\n",
       "      <th>25%</th>\n",
       "      <td>8.710000</td>\n",
       "      <td>0.027036</td>\n",
       "      <td>94.012000</td>\n",
       "      <td>1987.000000</td>\n",
       "      <td>0.000000</td>\n",
       "    </tr>\n",
       "    <tr>\n",
       "      <th>50%</th>\n",
       "      <td>12.600000</td>\n",
       "      <td>0.054021</td>\n",
       "      <td>142.247000</td>\n",
       "      <td>1999.000000</td>\n",
       "      <td>559.272000</td>\n",
       "    </tr>\n",
       "    <tr>\n",
       "      <th>75%</th>\n",
       "      <td>16.750000</td>\n",
       "      <td>0.094037</td>\n",
       "      <td>185.855600</td>\n",
       "      <td>2004.000000</td>\n",
       "      <td>2163.184200</td>\n",
       "    </tr>\n",
       "    <tr>\n",
       "      <th>max</th>\n",
       "      <td>21.350000</td>\n",
       "      <td>0.328391</td>\n",
       "      <td>266.888400</td>\n",
       "      <td>2009.000000</td>\n",
       "      <td>13086.964800</td>\n",
       "    </tr>\n",
       "  </tbody>\n",
       "</table>\n",
       "</div>"
      ],
      "text/plain": [
       "        Item_Weight  Item_Visibility      Item_MRP  Outlet_Establishment_Year  \\\n",
       "count  11765.000000     14204.000000  14204.000000               14204.000000   \n",
       "mean      12.792854         0.065953    141.004977                1997.830681   \n",
       "std        4.652502         0.051459     62.086938                   8.371664   \n",
       "min        4.555000         0.000000     31.290000                1985.000000   \n",
       "25%        8.710000         0.027036     94.012000                1987.000000   \n",
       "50%       12.600000         0.054021    142.247000                1999.000000   \n",
       "75%       16.750000         0.094037    185.855600                2004.000000   \n",
       "max       21.350000         0.328391    266.888400                2009.000000   \n",
       "\n",
       "       Item_Outlet_Sales  \n",
       "count       14204.000000  \n",
       "mean         1308.865489  \n",
       "std          1699.791423  \n",
       "min             0.000000  \n",
       "25%             0.000000  \n",
       "50%           559.272000  \n",
       "75%          2163.184200  \n",
       "max         13086.964800  "
      ]
     },
     "execution_count": 11,
     "metadata": {},
     "output_type": "execute_result"
    }
   ],
   "source": [
    " df.describe()"
   ]
  },
  {
   "cell_type": "markdown",
   "id": "5732ff0b-f522-40a4-9127-458bf3651ce2",
   "metadata": {},
   "source": [
    "<ul><li>Item Weight has certain Missing values</li>\n",
    "<li>Item Visibility has visibility equal to zero which is not possible</li></ul>"
   ]
  },
  {
   "cell_type": "markdown",
   "id": "c50baa1f-2e1a-4a9f-80c5-4788a02339ac",
   "metadata": {},
   "source": [
    "<h3>Handling Missing Values</h3>"
   ]
  },
  {
   "cell_type": "code",
   "execution_count": 12,
   "id": "0620c515-a0b9-4feb-8f02-e74a94d8c915",
   "metadata": {},
   "outputs": [
    {
     "data": {
      "text/plain": [
       "Item_Identifier                 0\n",
       "Item_Weight                  2439\n",
       "Item_Fat_Content                0\n",
       "Item_Visibility                 0\n",
       "Item_Type                       0\n",
       "Item_MRP                        0\n",
       "Outlet_Identifier               0\n",
       "Outlet_Establishment_Year       0\n",
       "Outlet_Size                  4016\n",
       "Outlet_Location_Type            0\n",
       "Outlet_Type                     0\n",
       "Item_Outlet_Sales               0\n",
       "source                          0\n",
       "dtype: int64"
      ]
     },
     "execution_count": 12,
     "metadata": {},
     "output_type": "execute_result"
    }
   ],
   "source": [
    "df.isnull().sum()"
   ]
  },
  {
   "cell_type": "markdown",
   "id": "c44064a5-f08c-403d-8685-d5bc0c44b5c1",
   "metadata": {},
   "source": [
    "<ul><li><b>Item-Weight & Outlet_Size have Missing values</b></li></ul>"
   ]
  },
  {
   "cell_type": "markdown",
   "id": "66fe70f8-6da6-483a-807a-ac412bef680c",
   "metadata": {},
   "source": [
    "<h3>Mean/Median Imputations</h3>"
   ]
  },
  {
   "cell_type": "code",
   "execution_count": 13,
   "id": "616ff586-4a05-4f86-84b1-2e462bd0248c",
   "metadata": {},
   "outputs": [
    {
     "data": {
      "text/plain": [
       "<Axes: ylabel='Density'>"
      ]
     },
     "execution_count": 13,
     "metadata": {},
     "output_type": "execute_result"
    },
    {
     "data": {
      "image/png": "[encoded data removed]",
      "text/plain": [
       "<Figure size 640x480 with 1 Axes>"
      ]
     },
     "metadata": {},
     "output_type": "display_data"
    }
   ],
   "source": [
    "df['Item_Weight'] = df['Item_Weight'].fillna(df['Item_Weight'].median())\n",
    "df['Item_Weight'].plot(kind = 'kde')"
   ]
  },
  {
   "cell_type": "markdown",
   "id": "ae4bb950-ccc0-4698-9e4f-1f4786fb4f38",
   "metadata": {},
   "source": [
    "Handling Item Visibility<br>\n",
    "As item_Visibility min value shows 0 value ,but this is not possible as when a product is being sold in a store,\n",
    "the visibility cannot be 0"
   ]
  },
  {
   "cell_type": "code",
   "execution_count": 14,
   "id": "00a22139-ee85-4046-9722-40d7bcfdb475",
   "metadata": {},
   "outputs": [
    {
     "data": {
      "text/plain": [
       "<Axes: ylabel='Density'>"
      ]
     },
     "execution_count": 14,
     "metadata": {},
     "output_type": "execute_result"
    },
    {
     "data": {
      "image/png": "[encoded data removed]",
      "text/plain": [
       "<Figure size 640x480 with 1 Axes>"
      ]
     },
     "metadata": {},
     "output_type": "display_data"
    }
   ],
   "source": [
    "df['Item_Visibility'] = df['Item_Visibility'].replace(0,np.nan)\n",
    "df['Item_Visibility'] = df['Item_Visibility'].fillna(df['Item_Visibility'].median())\n",
    "df['Item_Visibility'].plot(kind = 'kde',color = 'red')"
   ]
  },
  {
   "cell_type": "code",
   "execution_count": 15,
   "id": "d7cefb3e-242f-4934-82f0-e35cb075ebc8",
   "metadata": {},
   "outputs": [
    {
     "data": {
      "text/plain": [
       "Outlet_Size\n",
       "False    10188\n",
       "True      4016\n",
       "Name: count, dtype: int64"
      ]
     },
     "execution_count": 15,
     "metadata": {},
     "output_type": "execute_result"
    }
   ],
   "source": [
    "#Outlet_Size also has some missing values\n",
    "\n",
    "df['Outlet_Size'].isnull().value_counts()"
   ]
  },
  {
   "cell_type": "markdown",
   "id": "ec9bcbc3-c34c-4bb4-b6b8-e90214522c7d",
   "metadata": {},
   "source": [
    "<h3>Handling Categorical Values</h3>"
   ]
  },
  {
   "cell_type": "code",
   "execution_count": 16,
   "id": "0d90e088-5dae-4da7-a0a6-6b1e350fa590",
   "metadata": {},
   "outputs": [
    {
     "data": {
      "text/plain": [
       "0"
      ]
     },
     "execution_count": 16,
     "metadata": {},
     "output_type": "execute_result"
    }
   ],
   "source": [
    "#Handling missing values in Outlet_Size a categorical variable\n",
    "\n",
    "df['Outlet_Size'].fillna(df['Outlet_Size'].mode()[0],inplace= True)           \n",
    "df['Outlet_Size'].isna().sum()"
   ]
  },
  {
   "cell_type": "code",
   "execution_count": 17,
   "id": "17de92f5-332a-4c81-a731-0d71fa991a04",
   "metadata": {},
   "outputs": [
    {
     "data": {
      "text/plain": [
       "0       Low Fat\n",
       "1       Regular\n",
       "2       Low Fat\n",
       "3       Regular\n",
       "4       Low Fat\n",
       "         ...   \n",
       "5676    Regular\n",
       "5677    Regular\n",
       "5678    Low Fat\n",
       "5679    Regular\n",
       "5680    Regular\n",
       "Name: Item_Fat_Content, Length: 14204, dtype: object"
      ]
     },
     "execution_count": 17,
     "metadata": {},
     "output_type": "execute_result"
    }
   ],
   "source": [
    "#Handling Categorical Values\n",
    "#Correcting the misspelled values\n",
    "\n",
    "df['Item_Fat_Content']=df['Item_Fat_Content'].replace({'LF':'Low Fat','low fat':'Low Fat','reg':'Regular'})\n",
    "df['Item_Fat_Content']"
   ]
  },
  {
   "cell_type": "code",
   "execution_count": 18,
   "id": "cf4e1cab-668e-4dda-8057-de0567f93bee",
   "metadata": {},
   "outputs": [
    {
     "data": {
      "text/plain": [
       "Item_Categories\n",
       "Consumables        10201\n",
       "Non-Consumables     2686\n",
       "Drinks              1317\n",
       "Name: count, dtype: int64"
      ]
     },
     "execution_count": 18,
     "metadata": {},
     "output_type": "execute_result"
    }
   ],
   "source": [
    "#modifying Item_identifiers\n",
    "#Dividing the item identifiers into 3 broad categories\n",
    "\n",
    "df['Item_Categories'] = df['Item_Identifier'].apply(lambda x: x[0:2])\n",
    "df['Item_Categories'] = df['Item_Categories'].map({'FD':'Consumables','NC':'Non-Consumables','DR':'Drinks'})\n",
    "df['Item_Categories'].value_counts()"
   ]
  },
  {
   "cell_type": "code",
   "execution_count": 19,
   "id": "cf202d59-9a35-4ff5-815f-e1ca5cc7a1a1",
   "metadata": {},
   "outputs": [
    {
     "name": "stdout",
     "output_type": "stream",
     "text": [
      "Item_Fat_Content\n",
      "Low Fat    6499\n",
      "Regular    5019\n",
      "Other      2686\n",
      "Name: count, dtype: int64\n"
     ]
    }
   ],
   "source": [
    "#Modifying fat contents\n",
    "\n",
    "df.loc[df['Item_Categories']==\"Non-Consumables\",'Item_Fat_Content']=\"Other\"\n",
    "print(df['Item_Fat_Content'].value_counts())"
   ]
  },
  {
   "cell_type": "markdown",
   "id": "a2fc146a-2918-4eb0-bd0f-6c2edf73e055",
   "metadata": {},
   "source": [
    "<h3>Univariate Analysis & Bivariate Analysis</h3>"
   ]
  },
  {
   "cell_type": "code",
   "execution_count": 20,
   "id": "143616e8-43ef-4c83-a9b4-a09e52495069",
   "metadata": {},
   "outputs": [],
   "source": [
    "sb.set()\n",
    "sb.set_style('darkgrid')"
   ]
  },
  {
   "cell_type": "code",
   "execution_count": 21,
   "id": "4b747d89-9fe6-48d9-b2d3-bdb1c9b3e8c0",
   "metadata": {},
   "outputs": [
    {
     "data": {
      "image/png": "[encoded data removed]",
      "text/plain": [
       "<Figure size 400x300 with 1 Axes>"
      ]
     },
     "metadata": {},
     "output_type": "display_data"
    },
    {
     "name": "stdout",
     "output_type": "stream",
     "text": [
      "Items having Low Fats are sold more than others\n"
     ]
    }
   ],
   "source": [
    "plt.figure(figsize=(4,3))\n",
    "sb.countplot(x = 'Item_Fat_Content',data=df,edgecolor = 'Black',color = 'skyblue')\n",
    "plt.grid()\n",
    "plt.show()\n",
    "print(\"Items having Low Fats are sold more than others\") "
   ]
  },
  {
   "cell_type": "code",
   "execution_count": 22,
   "id": "db2c4ef5-9c70-4bcf-8fa1-6d14a483f6e5",
   "metadata": {},
   "outputs": [
    {
     "data": {
      "image/png": "[encoded data removed]",
      "text/plain": [
       "<Figure size 640x480 with 1 Axes>"
      ]
     },
     "metadata": {},
     "output_type": "display_data"
    },
    {
     "name": "stdout",
     "output_type": "stream",
     "text": [
      "Dairy products , Soft-Drinks , Meat are sold the most\n"
     ]
    }
   ],
   "source": [
    "#item_type\n",
    "result = df['Item_Type'].value_counts()\n",
    "result2 =df['Item_Type'].unique()\n",
    "plt.barh(result2,result,color = 'Teal')\n",
    "plt.title('Products')\n",
    "plt.xlabel('Counts of Products',color = 'navy')\n",
    "plt.ylabel('Type of Products',color='navy')\n",
    "plt.tight_layout()\n",
    "plt.show()\n",
    "print(\"Dairy products , Soft-Drinks , Meat are sold the most\")"
   ]
  },
  {
   "cell_type": "code",
   "execution_count": 23,
   "id": "03c444a9-a777-4899-a725-e120e0604bda",
   "metadata": {},
   "outputs": [
    {
     "data": {
      "image/png": "[encoded data removed]",
      "text/plain": [
       "<Figure size 500x500 with 1 Axes>"
      ]
     },
     "metadata": {},
     "output_type": "display_data"
    },
    {
     "name": "stdout",
     "output_type": "stream",
     "text": [
      "Consumables are major item_categoriy to be sold \n"
     ]
    }
   ],
   "source": [
    "plt.figure(figsize=(5,5))\n",
    "sb.countplot(x = 'Item_Categories',data=df,edgecolor = 'Black',color = 'skyblue')\n",
    "plt.grid()\n",
    "plt.show()\n",
    "print(\"Consumables are major item_categoriy to be sold \")"
   ]
  },
  {
   "cell_type": "code",
   "execution_count": 24,
   "id": "e9dbe327-b78c-4847-ae63-c82bd8a1cfbc",
   "metadata": {},
   "outputs": [
    {
     "data": {
      "image/png": "[encoded data removed]",
      "text/plain": [
       "<Figure size 500x500 with 1 Axes>"
      ]
     },
     "metadata": {},
     "output_type": "display_data"
    }
   ],
   "source": [
    "plt.figure(figsize=(5,5))\n",
    "sb.countplot(x = 'Outlet_Size',data=df,edgecolor = 'Black',color = 'skyblue')\n",
    "plt.grid()\n",
    "plt.show()"
   ]
  },
  {
   "cell_type": "code",
   "execution_count": 25,
   "id": "2251e813-cbdf-47ab-b2ac-f5e7a8b4ba66",
   "metadata": {},
   "outputs": [
    {
     "data": {
      "image/png": "[encoded data removed]",
      "text/plain": [
       "<Figure size 700x600 with 1 Axes>"
      ]
     },
     "metadata": {},
     "output_type": "display_data"
    },
    {
     "data": {
      "text/plain": [
       "Outlet_Type\n",
       "Supermarket Type1    9294\n",
       "Grocery Store        1805\n",
       "Supermarket Type3    1559\n",
       "Supermarket Type2    1546\n",
       "Name: count, dtype: int64"
      ]
     },
     "execution_count": 25,
     "metadata": {},
     "output_type": "execute_result"
    }
   ],
   "source": [
    "plt.figure(figsize=(7,6))\n",
    "sb.countplot(y = 'Outlet_Type',data=df,edgecolor = 'Black',color = 'skyblue')\n",
    "plt.grid()\n",
    "plt.show()\n",
    "df['Outlet_Type'].value_counts()"
   ]
  },
  {
   "cell_type": "code",
   "execution_count": 26,
   "id": "eb018152-a84e-479c-8187-d2c943997224",
   "metadata": {},
   "outputs": [
    {
     "data": {
      "image/png": "[encoded data removed]",
      "text/plain": [
       "<Figure size 640x480 with 1 Axes>"
      ]
     },
     "metadata": {},
     "output_type": "display_data"
    },
    {
     "data": {
      "text/plain": [
       "Outlet_Location_Type\n",
       "Tier 3    5583\n",
       "Tier 2    4641\n",
       "Tier 1    3980\n",
       "Name: count, dtype: int64"
      ]
     },
     "execution_count": 26,
     "metadata": {},
     "output_type": "execute_result"
    }
   ],
   "source": [
    "data = df['Outlet_Location_Type'].value_counts()\n",
    "labels = [\"Tier 3\",\"Tier 2\",\"Tier 1\"]\n",
    "color_palette_list = ['#009ACD', '#ADD8E6', '#63D1F4']\n",
    "plt.pie(data,labels = labels,startangle=90,colors= color_palette_list, autopct=\"%0.0f%%\", explode=(0,0,0.1))\n",
    "plt.show()\n",
    "df['Outlet_Location_Type'].value_counts()"
   ]
  },
  {
   "cell_type": "code",
   "execution_count": 27,
   "id": "25c0712e-52ef-47bb-b18a-1fc4b74cbde4",
   "metadata": {},
   "outputs": [
    {
     "data": {
      "image/png": "[encoded data removed]",
      "text/plain": [
       "<Figure size 640x480 with 1 Axes>"
      ]
     },
     "metadata": {},
     "output_type": "display_data"
    },
    {
     "name": "stdout",
     "output_type": "stream",
     "text": [
      "Outlet_Identifier\n",
      "OUT010    97.359505\n",
      "OUT013    99.224542\n",
      "OUT017    99.201669\n",
      "OUT018    98.682047\n",
      "OUT019    97.395176\n",
      "OUT027    99.629339\n",
      "OUT035    99.602544\n",
      "OUT045    99.664628\n",
      "OUT046    98.955225\n",
      "OUT049    97.929378\n",
      "Name: Item_Visibility, dtype: float64\n",
      "Item Visibility has no as such trend for conclusion as every store has comparable visibility of items they are selling\n"
     ]
    }
   ],
   "source": [
    "Outlet_ID= df.groupby('Outlet_Identifier')\n",
    "Item_visibility = Outlet_ID.sum()['Item_Visibility']\n",
    "keys = [i for i, j in Outlet_ID]\n",
    "plt.bar(keys,Item_visibility,color='skyblue',edgecolor='black' )\n",
    "plt.xticks(keys, rotation='vertical', size=8)\n",
    "plt.ylim(95.0,102.4)\n",
    "plt.show()\n",
    "print(Item_visibility)\n",
    "print(\"Item Visibility has no as such trend for conclusion as every store has comparable visibility of items they are selling\")"
   ]
  },
  {
   "cell_type": "code",
   "execution_count": 28,
   "id": "3b533252-72ed-477a-93fe-f1ceb2e5166a",
   "metadata": {},
   "outputs": [
    {
     "data": {
      "text/html": [
       "<div>\n",
       "<style scoped>\n",
       "    .dataframe tbody tr th:only-of-type {\n",
       "        vertical-align: middle;\n",
       "    }\n",
       "\n",
       "    .dataframe tbody tr th {\n",
       "        vertical-align: top;\n",
       "    }\n",
       "\n",
       "    .dataframe thead th {\n",
       "        text-align: right;\n",
       "    }\n",
       "</style>\n",
       "<table border=\"1\" class=\"dataframe\">\n",
       "  <thead>\n",
       "    <tr style=\"text-align: right;\">\n",
       "      <th></th>\n",
       "      <th>Item_Visibility</th>\n",
       "      <th>Item_MRP</th>\n",
       "      <th>Item_Weight</th>\n",
       "      <th>Item_Outlet_Sales</th>\n",
       "    </tr>\n",
       "    <tr>\n",
       "      <th>Outlet_Identifier</th>\n",
       "      <th></th>\n",
       "      <th></th>\n",
       "      <th></th>\n",
       "      <th></th>\n",
       "    </tr>\n",
       "  </thead>\n",
       "  <tbody>\n",
       "    <tr>\n",
       "      <th>OUT027</th>\n",
       "      <td>99.629339</td>\n",
       "      <td>219838.2488</td>\n",
       "      <td>19643.400</td>\n",
       "      <td>3.453926e+06</td>\n",
       "    </tr>\n",
       "    <tr>\n",
       "      <th>OUT035</th>\n",
       "      <td>99.602544</td>\n",
       "      <td>218716.2030</td>\n",
       "      <td>19846.925</td>\n",
       "      <td>2.268123e+06</td>\n",
       "    </tr>\n",
       "    <tr>\n",
       "      <th>OUT049</th>\n",
       "      <td>97.929378</td>\n",
       "      <td>218802.9588</td>\n",
       "      <td>19844.655</td>\n",
       "      <td>2.183970e+06</td>\n",
       "    </tr>\n",
       "    <tr>\n",
       "      <th>OUT017</th>\n",
       "      <td>99.201669</td>\n",
       "      <td>217561.3500</td>\n",
       "      <td>19722.750</td>\n",
       "      <td>2.167465e+06</td>\n",
       "    </tr>\n",
       "    <tr>\n",
       "      <th>OUT013</th>\n",
       "      <td>99.224542</td>\n",
       "      <td>219172.4492</td>\n",
       "      <td>19859.980</td>\n",
       "      <td>2.142664e+06</td>\n",
       "    </tr>\n",
       "    <tr>\n",
       "      <th>OUT046</th>\n",
       "      <td>98.955225</td>\n",
       "      <td>218274.0716</td>\n",
       "      <td>19860.635</td>\n",
       "      <td>2.118395e+06</td>\n",
       "    </tr>\n",
       "    <tr>\n",
       "      <th>OUT045</th>\n",
       "      <td>99.664628</td>\n",
       "      <td>218047.1632</td>\n",
       "      <td>19809.905</td>\n",
       "      <td>2.036725e+06</td>\n",
       "    </tr>\n",
       "    <tr>\n",
       "      <th>OUT018</th>\n",
       "      <td>98.682047</td>\n",
       "      <td>217987.3906</td>\n",
       "      <td>19794.425</td>\n",
       "      <td>1.851823e+06</td>\n",
       "    </tr>\n",
       "    <tr>\n",
       "      <th>OUT010</th>\n",
       "      <td>97.359505</td>\n",
       "      <td>130572.7618</td>\n",
       "      <td>11768.655</td>\n",
       "      <td>1.883402e+05</td>\n",
       "    </tr>\n",
       "    <tr>\n",
       "      <th>OUT019</th>\n",
       "      <td>97.395176</td>\n",
       "      <td>123862.1000</td>\n",
       "      <td>11088.000</td>\n",
       "      <td>1.796941e+05</td>\n",
       "    </tr>\n",
       "  </tbody>\n",
       "</table>\n",
       "</div>"
      ],
      "text/plain": [
       "                   Item_Visibility     Item_MRP  Item_Weight  \\\n",
       "Outlet_Identifier                                              \n",
       "OUT027                   99.629339  219838.2488    19643.400   \n",
       "OUT035                   99.602544  218716.2030    19846.925   \n",
       "OUT049                   97.929378  218802.9588    19844.655   \n",
       "OUT017                   99.201669  217561.3500    19722.750   \n",
       "OUT013                   99.224542  219172.4492    19859.980   \n",
       "OUT046                   98.955225  218274.0716    19860.635   \n",
       "OUT045                   99.664628  218047.1632    19809.905   \n",
       "OUT018                   98.682047  217987.3906    19794.425   \n",
       "OUT010                   97.359505  130572.7618    11768.655   \n",
       "OUT019                   97.395176  123862.1000    11088.000   \n",
       "\n",
       "                   Item_Outlet_Sales  \n",
       "Outlet_Identifier                     \n",
       "OUT027                  3.453926e+06  \n",
       "OUT035                  2.268123e+06  \n",
       "OUT049                  2.183970e+06  \n",
       "OUT017                  2.167465e+06  \n",
       "OUT013                  2.142664e+06  \n",
       "OUT046                  2.118395e+06  \n",
       "OUT045                  2.036725e+06  \n",
       "OUT018                  1.851823e+06  \n",
       "OUT010                  1.883402e+05  \n",
       "OUT019                  1.796941e+05  "
      ]
     },
     "execution_count": 28,
     "metadata": {},
     "output_type": "execute_result"
    }
   ],
   "source": [
    "res = df.groupby(['Outlet_Identifier']).sum()[['Item_Visibility','Item_MRP','Item_Weight','Item_Outlet_Sales']]\n",
    "res.sort_values(by='Item_Outlet_Sales',ascending = False)"
   ]
  },
  {
   "cell_type": "markdown",
   "id": "846663d7-6707-4979-bddf-2f811ca9b173",
   "metadata": {},
   "source": [
    "<ul>\n",
    "<li><b>Item_MRP is directly proportional to Item_Outlet_Sales</b></li>\n",
    "<li><b>Item_visibility and item_weights are showing very less impact on Item_Outlet_Sales</b></li>\n",
    "</ul>"
   ]
  },
  {
   "cell_type": "code",
   "execution_count": 29,
   "id": "c536fbd8-0dcb-4fb6-906a-6d72b51dc796",
   "metadata": {},
   "outputs": [
    {
     "data": {
      "text/html": [
       "<div>\n",
       "<style scoped>\n",
       "    .dataframe tbody tr th:only-of-type {\n",
       "        vertical-align: middle;\n",
       "    }\n",
       "\n",
       "    .dataframe tbody tr th {\n",
       "        vertical-align: top;\n",
       "    }\n",
       "\n",
       "    .dataframe thead th {\n",
       "        text-align: right;\n",
       "    }\n",
       "</style>\n",
       "<table border=\"1\" class=\"dataframe\">\n",
       "  <thead>\n",
       "    <tr style=\"text-align: right;\">\n",
       "      <th></th>\n",
       "      <th>Item_Visibility</th>\n",
       "      <th>Item_MRP</th>\n",
       "      <th>Item_Weight</th>\n",
       "      <th>Item_Outlet_Sales</th>\n",
       "    </tr>\n",
       "    <tr>\n",
       "      <th>Outlet_Location_Type</th>\n",
       "      <th></th>\n",
       "      <th></th>\n",
       "      <th></th>\n",
       "      <th></th>\n",
       "    </tr>\n",
       "  </thead>\n",
       "  <tbody>\n",
       "    <tr>\n",
       "      <th>Tier 1</th>\n",
       "      <td>294.279779</td>\n",
       "      <td>560939.1304</td>\n",
       "      <td>50793.29</td>\n",
       "      <td>4.482059e+06</td>\n",
       "    </tr>\n",
       "    <tr>\n",
       "      <th>Tier 2</th>\n",
       "      <td>298.468841</td>\n",
       "      <td>654324.7162</td>\n",
       "      <td>59379.58</td>\n",
       "      <td>6.472314e+06</td>\n",
       "    </tr>\n",
       "    <tr>\n",
       "      <th>Tier 3</th>\n",
       "      <td>394.895433</td>\n",
       "      <td>787570.8504</td>\n",
       "      <td>71066.46</td>\n",
       "      <td>7.636753e+06</td>\n",
       "    </tr>\n",
       "  </tbody>\n",
       "</table>\n",
       "</div>"
      ],
      "text/plain": [
       "                      Item_Visibility     Item_MRP  Item_Weight  \\\n",
       "Outlet_Location_Type                                              \n",
       "Tier 1                     294.279779  560939.1304     50793.29   \n",
       "Tier 2                     298.468841  654324.7162     59379.58   \n",
       "Tier 3                     394.895433  787570.8504     71066.46   \n",
       "\n",
       "                      Item_Outlet_Sales  \n",
       "Outlet_Location_Type                     \n",
       "Tier 1                     4.482059e+06  \n",
       "Tier 2                     6.472314e+06  \n",
       "Tier 3                     7.636753e+06  "
      ]
     },
     "execution_count": 29,
     "metadata": {},
     "output_type": "execute_result"
    }
   ],
   "source": [
    "re=df.groupby(['Outlet_Location_Type']).sum()[['Item_Visibility','Item_MRP','Item_Weight','Item_Outlet_Sales']]\n",
    "re"
   ]
  },
  {
   "cell_type": "markdown",
   "id": "b83d479d-ae1c-4538-a170-7f9225fb22df",
   "metadata": {},
   "source": [
    "<ul><li><b>Outlets present in Tier 3 shows major impact on item_Outlet_sales</b></li></ul>"
   ]
  },
  {
   "cell_type": "code",
   "execution_count": 30,
   "id": "529544a9-a1b4-4d07-96e2-14b2fb2c7303",
   "metadata": {},
   "outputs": [
    {
     "data": {
      "text/plain": [
       "Outlet_Identifier  Outlet_Type        Outlet_Size  Item_Categories  Outlet_Location_Type\n",
       "OUT010             Grocery Store      Medium       Consumables      Tier 3                   660\n",
       "                                                   Drinks           Tier 3                    88\n",
       "                                                   Non-Consumables  Tier 3                   177\n",
       "OUT013             Supermarket Type1  High         Consumables      Tier 3                  1116\n",
       "                                                   Drinks           Tier 3                   145\n",
       "                                                   Non-Consumables  Tier 3                   292\n",
       "OUT017             Supermarket Type1  Medium       Consumables      Tier 2                  1107\n",
       "                                                   Drinks           Tier 2                   145\n",
       "                                                   Non-Consumables  Tier 2                   291\n",
       "OUT018             Supermarket Type2  Medium       Consumables      Tier 3                  1112\n",
       "                                                   Drinks           Tier 3                   144\n",
       "                                                   Non-Consumables  Tier 3                   290\n",
       "OUT019             Grocery Store      Small        Consumables      Tier 1                   637\n",
       "                                                   Drinks           Tier 1                    75\n",
       "                                                   Non-Consumables  Tier 1                   168\n",
       "OUT027             Supermarket Type3  Medium       Consumables      Tier 3                  1119\n",
       "                                                   Drinks           Tier 3                   145\n",
       "                                                   Non-Consumables  Tier 3                   295\n",
       "OUT035             Supermarket Type1  Small        Consumables      Tier 2                  1113\n",
       "                                                   Drinks           Tier 2                   145\n",
       "                                                   Non-Consumables  Tier 2                   292\n",
       "OUT045             Supermarket Type1  Medium       Consumables      Tier 2                  1111\n",
       "                                                   Drinks           Tier 2                   143\n",
       "                                                   Non-Consumables  Tier 2                   294\n",
       "OUT046             Supermarket Type1  Small        Consumables      Tier 1                  1112\n",
       "                                                   Drinks           Tier 1                   144\n",
       "                                                   Non-Consumables  Tier 1                   294\n",
       "OUT049             Supermarket Type1  Medium       Consumables      Tier 1                  1114\n",
       "                                                   Drinks           Tier 1                   143\n",
       "                                                   Non-Consumables  Tier 1                   293\n",
       "Name: Item_Identifier, dtype: int64"
      ]
     },
     "execution_count": 30,
     "metadata": {},
     "output_type": "execute_result"
    }
   ],
   "source": [
    "re = df.groupby(['Outlet_Identifier','Outlet_Type','Outlet_Size','Item_Categories','Outlet_Location_Type']).count()['Item_Identifier']\n",
    "re"
   ]
  },
  {
   "cell_type": "markdown",
   "id": "295a986d-16cc-47eb-b5f3-cff50017f87d",
   "metadata": {},
   "source": [
    "From Above Summarization\n",
    "Observations:\n",
    "- <b>Stores Having Outlet_size Medium shows maximum sales</b>\n",
    "- <b>Stores Having Outlet_Type Supermarket Type1 shows maximum sales</b>\n",
    "- <b>Stores That are Located in Tier 3 shows maximum sales</b>\n",
    "- <b>Generally Consumables are sold out more at each store</b>\n",
    "- <b>Generally stores where item visibility is high that store sells more items</b>\n",
    "- <b>It is seen that Item MRP is inversely proportional to item Sales</b>"
   ]
  },
  {
   "cell_type": "markdown",
   "id": "0250e6ff-a8d3-40d7-81d1-4b0d1dad10de",
   "metadata": {},
   "source": [
    "<h2>Production by Each Store</h2>"
   ]
  },
  {
   "cell_type": "code",
   "execution_count": 31,
   "id": "7714d749-32c9-48fd-9f9e-b384cf48affd",
   "metadata": {},
   "outputs": [
    {
     "data": {
      "image/png": "[encoded data removed]",
      "text/plain": [
       "<Figure size 640x480 with 1 Axes>"
      ]
     },
     "metadata": {},
     "output_type": "display_data"
    },
    {
     "name": "stdout",
     "output_type": "stream",
     "text": [
      "OUT027 shows maximum Sales Production\n"
     ]
    }
   ],
   "source": [
    "Outlet_ID= df.groupby('Outlet_Identifier')\n",
    "Item_Outlet_sales = Outlet_ID.sum()['Item_Outlet_Sales']\n",
    "keys = [i for i, j in Outlet_ID]\n",
    "plt.barh(keys,Item_Outlet_sales,edgecolor = 'black',color='skyblue')\n",
    "plt.yticks(keys, rotation='horizontal', size=8)\n",
    "plt.title(\"Sales Production by Each Store\")\n",
    "plt.show()\n",
    "print(\"OUT027 shows maximum Sales Production\")"
   ]
  },
  {
   "cell_type": "markdown",
   "id": "9cd5f6de-8ff0-44b4-ab0a-d21738434ded",
   "metadata": {},
   "source": [
    "<h3>Calculationg the sales period</h3>"
   ]
  },
  {
   "cell_type": "code",
   "execution_count": 32,
   "id": "d79aae4f-ddc3-430a-97cf-810dcac295c5",
   "metadata": {},
   "outputs": [
    {
     "data": {
      "image/png": "[encoded data removed]",
      "text/plain": [
       "<Figure size 640x480 with 1 Axes>"
      ]
     },
     "metadata": {},
     "output_type": "display_data"
    }
   ],
   "source": [
    "import datetime as d\n",
    "current_Yr = d.datetime.today().year\n",
    "df['Outlet_Period'] = current_Yr - df['Outlet_Establishment_Year']\n",
    "Outlet_ID= df.groupby('Outlet_Identifier')\n",
    "Item_Outlet_period = Outlet_ID.sum()['Outlet_Period']\n",
    "keys = [i for i, j in Outlet_ID]\n",
    "plt.barh(keys,Item_Outlet_period,edgecolor = 'black',color='lightgreen')\n",
    "plt.yticks(keys, rotation='horizontal', size=8)\n",
    "plt.title(\"Sales Period\")\n",
    "plt.show()"
   ]
  },
  {
   "cell_type": "markdown",
   "id": "dcf34f73-6db1-4881-9bc7-67cfd585af08",
   "metadata": {},
   "source": [
    "<h3>Correlation Matrix</h3>"
   ]
  },
  {
   "cell_type": "code",
   "execution_count": 33,
   "id": "5e9e7ea8-8a8c-498c-9dbc-60b56a5b0943",
   "metadata": {},
   "outputs": [
    {
     "data": {
      "text/html": [
       "<div>\n",
       "<style scoped>\n",
       "    .dataframe tbody tr th:only-of-type {\n",
       "        vertical-align: middle;\n",
       "    }\n",
       "\n",
       "    .dataframe tbody tr th {\n",
       "        vertical-align: top;\n",
       "    }\n",
       "\n",
       "    .dataframe thead th {\n",
       "        text-align: right;\n",
       "    }\n",
       "</style>\n",
       "<table border=\"1\" class=\"dataframe\">\n",
       "  <thead>\n",
       "    <tr style=\"text-align: right;\">\n",
       "      <th></th>\n",
       "      <th>Item_Weight</th>\n",
       "      <th>Item_Visibility</th>\n",
       "      <th>Item_MRP</th>\n",
       "      <th>Outlet_Establishment_Year</th>\n",
       "      <th>Item_Outlet_Sales</th>\n",
       "      <th>Outlet_Period</th>\n",
       "    </tr>\n",
       "  </thead>\n",
       "  <tbody>\n",
       "    <tr>\n",
       "      <th>Item_Weight</th>\n",
       "      <td>1.000000</td>\n",
       "      <td>-0.016986</td>\n",
       "      <td>0.033008</td>\n",
       "      <td>0.012448</td>\n",
       "      <td>0.015590</td>\n",
       "      <td>-0.012448</td>\n",
       "    </tr>\n",
       "    <tr>\n",
       "      <th>Item_Visibility</th>\n",
       "      <td>-0.016986</td>\n",
       "      <td>1.000000</td>\n",
       "      <td>-0.008522</td>\n",
       "      <td>-0.088450</td>\n",
       "      <td>-0.078371</td>\n",
       "      <td>0.088450</td>\n",
       "    </tr>\n",
       "    <tr>\n",
       "      <th>Item_MRP</th>\n",
       "      <td>0.033008</td>\n",
       "      <td>-0.008522</td>\n",
       "      <td>1.000000</td>\n",
       "      <td>0.000141</td>\n",
       "      <td>0.342781</td>\n",
       "      <td>-0.000141</td>\n",
       "    </tr>\n",
       "    <tr>\n",
       "      <th>Outlet_Establishment_Year</th>\n",
       "      <td>0.012448</td>\n",
       "      <td>-0.088450</td>\n",
       "      <td>0.000141</td>\n",
       "      <td>1.000000</td>\n",
       "      <td>-0.029489</td>\n",
       "      <td>-1.000000</td>\n",
       "    </tr>\n",
       "    <tr>\n",
       "      <th>Item_Outlet_Sales</th>\n",
       "      <td>0.015590</td>\n",
       "      <td>-0.078371</td>\n",
       "      <td>0.342781</td>\n",
       "      <td>-0.029489</td>\n",
       "      <td>1.000000</td>\n",
       "      <td>0.029489</td>\n",
       "    </tr>\n",
       "    <tr>\n",
       "      <th>Outlet_Period</th>\n",
       "      <td>-0.012448</td>\n",
       "      <td>0.088450</td>\n",
       "      <td>-0.000141</td>\n",
       "      <td>-1.000000</td>\n",
       "      <td>0.029489</td>\n",
       "      <td>1.000000</td>\n",
       "    </tr>\n",
       "  </tbody>\n",
       "</table>\n",
       "</div>"
      ],
      "text/plain": [
       "                           Item_Weight  Item_Visibility  Item_MRP  \\\n",
       "Item_Weight                   1.000000        -0.016986  0.033008   \n",
       "Item_Visibility              -0.016986         1.000000 -0.008522   \n",
       "Item_MRP                      0.033008        -0.008522  1.000000   \n",
       "Outlet_Establishment_Year     0.012448        -0.088450  0.000141   \n",
       "Item_Outlet_Sales             0.015590        -0.078371  0.342781   \n",
       "Outlet_Period                -0.012448         0.088450 -0.000141   \n",
       "\n",
       "                           Outlet_Establishment_Year  Item_Outlet_Sales  \\\n",
       "Item_Weight                                 0.012448           0.015590   \n",
       "Item_Visibility                            -0.088450          -0.078371   \n",
       "Item_MRP                                    0.000141           0.342781   \n",
       "Outlet_Establishment_Year                   1.000000          -0.029489   \n",
       "Item_Outlet_Sales                          -0.029489           1.000000   \n",
       "Outlet_Period                              -1.000000           0.029489   \n",
       "\n",
       "                           Outlet_Period  \n",
       "Item_Weight                    -0.012448  \n",
       "Item_Visibility                 0.088450  \n",
       "Item_MRP                       -0.000141  \n",
       "Outlet_Establishment_Year      -1.000000  \n",
       "Item_Outlet_Sales               0.029489  \n",
       "Outlet_Period                   1.000000  "
      ]
     },
     "execution_count": 33,
     "metadata": {},
     "output_type": "execute_result"
    }
   ],
   "source": [
    "data = df.select_dtypes(include = 'number')\n",
    "data.corr()"
   ]
  },
  {
   "cell_type": "markdown",
   "id": "6f1f275a-d72c-49c6-aebe-fa114bd44bec",
   "metadata": {},
   "source": [
    "<ul><li><b>There is a slight positive relationship between Item_sales production and Maximum retail price of a product</b></li></ul>"
   ]
  },
  {
   "cell_type": "markdown",
   "id": "2483eaac-ddf9-4038-bee3-b713f26bd319",
   "metadata": {},
   "source": [
    "<h3>HeatMap</h3>"
   ]
  },
  {
   "cell_type": "code",
   "execution_count": 34,
   "id": "bb532d11-d983-4c89-9c6f-b458eb242b6a",
   "metadata": {},
   "outputs": [
    {
     "data": {
      "text/plain": [
       "<Axes: >"
      ]
     },
     "execution_count": 34,
     "metadata": {},
     "output_type": "execute_result"
    },
    {
     "data": {
      "image/png": "[encoded data removed]",
      "text/plain": [
       "<Figure size 640x480 with 2 Axes>"
      ]
     },
     "metadata": {},
     "output_type": "display_data"
    }
   ],
   "source": [
    "sb.heatmap(data.corr(), cmap=\"YlGnBu\", annot=True)"
   ]
  },
  {
   "cell_type": "markdown",
   "id": "9bc37a70-339a-4507-a344-8504c97df14d",
   "metadata": {},
   "source": [
    "<h2>Outlier Detection & Removal of Outliers</h2>"
   ]
  },
  {
   "cell_type": "code",
   "execution_count": 35,
   "id": "dd7b7ad6-bbce-4a6c-9f37-5e21966f957c",
   "metadata": {},
   "outputs": [
    {
     "data": {
      "image/png": "[encoded data removed]",
      "text/plain": [
       "<Figure size 640x480 with 2 Axes>"
      ]
     },
     "metadata": {},
     "output_type": "display_data"
    }
   ],
   "source": [
    "fig, (ax1, ax2) = plt.subplots(1, 2)\n",
    "fig.suptitle('MRP & Weight Outlier Detection')\n",
    "ax1.boxplot(df['Item_MRP'])\n",
    "ax2.boxplot(df['Item_Weight'])\n",
    "plt.show()"
   ]
  },
  {
   "cell_type": "markdown",
   "id": "2f766580-3998-411a-8faf-b3fb48023296",
   "metadata": {},
   "source": [
    "<b>No Outlier in Item_Weight & Item_MRP </b>"
   ]
  },
  {
   "cell_type": "code",
   "execution_count": 36,
   "id": "e86497cd-439d-4e85-8f47-87fdeb043f91",
   "metadata": {},
   "outputs": [
    {
     "data": {
      "image/png": "[encoded data removed]",
      "text/plain": [
       "<Figure size 640x480 with 1 Axes>"
      ]
     },
     "metadata": {},
     "output_type": "display_data"
    }
   ],
   "source": [
    "sb.boxplot(x=df['Item_Visibility'])\n",
    "plt.show()"
   ]
  },
  {
   "cell_type": "markdown",
   "id": "8b7dd5fa-548f-4233-8f2b-602200ad460d",
   "metadata": {},
   "source": [
    "<b>Outliers in Item_Visibility</b>"
   ]
  },
  {
   "cell_type": "markdown",
   "id": "bb0af4a1-be34-4678-867d-6539aaab044a",
   "metadata": {},
   "source": [
    "<h2><b>Removing the Outliers in Item_Visibility</b></h2>"
   ]
  },
  {
   "cell_type": "code",
   "execution_count": 37,
   "id": "dc70b167-d072-4d7c-995b-cb62f5f7b751",
   "metadata": {},
   "outputs": [
    {
     "name": "stdout",
     "output_type": "stream",
     "text": [
      "before removing outliers: 14204\n",
      "After removing outliers: 13895\n",
      "Outliers: 309\n"
     ]
    },
    {
     "data": {
      "image/png": "[encoded data removed]",
      "text/plain": [
       "<Figure size 640x480 with 1 Axes>"
      ]
     },
     "metadata": {},
     "output_type": "display_data"
    }
   ],
   "source": [
    "Q1 = df['Item_Visibility'].quantile(0.25)\n",
    "Q3 = df['Item_Visibility'].quantile(0.75)\n",
    "IQR = Q3 - Q1\n",
    "uppr_limit = Q3 + (1.5 * IQR)\n",
    "lwr_limit = Q1  - (1.5 * IQR)\n",
    "new_df = df.loc[(df['Item_Visibility']<uppr_limit)&(df['Item_Visibility']>lwr_limit)]\n",
    "print(\"before removing outliers:\",len(df))\n",
    "print(\"After removing outliers:\",len(new_df))\n",
    "print(\"Outliers:\",len(df) - len(new_df))\n",
    "#capping\n",
    "new_df = df.copy()\n",
    "new_df.loc[(new_df['Item_Visibility']>uppr_limit),'Item_Visibility'] = uppr_limit\n",
    "new_df.loc[(new_df['Item_Visibility']<lwr_limit),'Item_Visibility'] = lwr_limit\n",
    "sb.boxplot(x=new_df['Item_Visibility'])\n",
    "plt.show()"
   ]
  },
  {
   "cell_type": "markdown",
   "id": "e2e36692-b693-41c0-a795-30371e91808f",
   "metadata": {},
   "source": [
    "<h2>Encoding The Categorical Variables</h2>"
   ]
  },
  {
   "cell_type": "markdown",
   "id": "7966c1a0-6262-42ba-9063-fee4e5cd5737",
   "metadata": {},
   "source": [
    "<p><h3><b>Label Encoding</b></h3>\n",
    "<ul><li><h4>provides a way to represent categorical data in a format compatible with these algorithms</h4></li></ul></p>"
   ]
  },
  {
   "cell_type": "code",
   "execution_count": 38,
   "id": "52b8f253-e9d3-4687-83fe-707ca9a8bbd6",
   "metadata": {},
   "outputs": [],
   "source": [
    "encoder = LabelEncoder()"
   ]
  },
  {
   "cell_type": "code",
   "execution_count": 39,
   "id": "6ad9a5bf-e56a-4f42-8be1-ac4dc27f0a4d",
   "metadata": {},
   "outputs": [],
   "source": [
    "new_df['Item_Categories'] = encoder.fit_transform(df['Item_Categories'])\n",
    "new_df['Item_Fat_Content'] = encoder.fit_transform(df['Item_Fat_Content'])\n",
    "new_df['Outlet_Size'] = encoder.fit_transform(df['Outlet_Size'])\n",
    "new_df['Outlet_Type'] = encoder.fit_transform(df['Outlet_Type'])\n",
    "new_df['Outlet_Location_Type'] = encoder.fit_transform(df['Outlet_Location_Type'])\n",
    "new_df['Outlet_Identifier'] = encoder.fit_transform(df['Outlet_Identifier'])"
   ]
  },
  {
   "cell_type": "code",
   "execution_count": 40,
   "id": "91161379-40ad-4559-b4bd-43e0fd83c15b",
   "metadata": {},
   "outputs": [
    {
     "data": {
      "text/html": [
       "<div>\n",
       "<style scoped>\n",
       "    .dataframe tbody tr th:only-of-type {\n",
       "        vertical-align: middle;\n",
       "    }\n",
       "\n",
       "    .dataframe tbody tr th {\n",
       "        vertical-align: top;\n",
       "    }\n",
       "\n",
       "    .dataframe thead th {\n",
       "        text-align: right;\n",
       "    }\n",
       "</style>\n",
       "<table border=\"1\" class=\"dataframe\">\n",
       "  <thead>\n",
       "    <tr style=\"text-align: right;\">\n",
       "      <th></th>\n",
       "      <th>Item_Identifier</th>\n",
       "      <th>Item_Weight</th>\n",
       "      <th>Item_Fat_Content</th>\n",
       "      <th>Item_Visibility</th>\n",
       "      <th>Item_Type</th>\n",
       "      <th>Item_MRP</th>\n",
       "      <th>Outlet_Identifier</th>\n",
       "      <th>Outlet_Establishment_Year</th>\n",
       "      <th>Outlet_Size</th>\n",
       "      <th>Outlet_Location_Type</th>\n",
       "      <th>Outlet_Type</th>\n",
       "      <th>Item_Outlet_Sales</th>\n",
       "      <th>source</th>\n",
       "      <th>Item_Categories</th>\n",
       "      <th>Outlet_Period</th>\n",
       "    </tr>\n",
       "  </thead>\n",
       "  <tbody>\n",
       "    <tr>\n",
       "      <th>0</th>\n",
       "      <td>FDA15</td>\n",
       "      <td>9.300</td>\n",
       "      <td>0</td>\n",
       "      <td>0.016047</td>\n",
       "      <td>Dairy</td>\n",
       "      <td>249.8092</td>\n",
       "      <td>9</td>\n",
       "      <td>1999</td>\n",
       "      <td>1</td>\n",
       "      <td>0</td>\n",
       "      <td>1</td>\n",
       "      <td>3735.1380</td>\n",
       "      <td>train</td>\n",
       "      <td>0</td>\n",
       "      <td>24</td>\n",
       "    </tr>\n",
       "    <tr>\n",
       "      <th>1</th>\n",
       "      <td>DRC01</td>\n",
       "      <td>5.920</td>\n",
       "      <td>2</td>\n",
       "      <td>0.019278</td>\n",
       "      <td>Soft Drinks</td>\n",
       "      <td>48.2692</td>\n",
       "      <td>3</td>\n",
       "      <td>2009</td>\n",
       "      <td>1</td>\n",
       "      <td>2</td>\n",
       "      <td>2</td>\n",
       "      <td>443.4228</td>\n",
       "      <td>train</td>\n",
       "      <td>1</td>\n",
       "      <td>14</td>\n",
       "    </tr>\n",
       "    <tr>\n",
       "      <th>2</th>\n",
       "      <td>FDN15</td>\n",
       "      <td>17.500</td>\n",
       "      <td>0</td>\n",
       "      <td>0.016760</td>\n",
       "      <td>Meat</td>\n",
       "      <td>141.6180</td>\n",
       "      <td>9</td>\n",
       "      <td>1999</td>\n",
       "      <td>1</td>\n",
       "      <td>0</td>\n",
       "      <td>1</td>\n",
       "      <td>2097.2700</td>\n",
       "      <td>train</td>\n",
       "      <td>0</td>\n",
       "      <td>24</td>\n",
       "    </tr>\n",
       "    <tr>\n",
       "      <th>3</th>\n",
       "      <td>FDX07</td>\n",
       "      <td>19.200</td>\n",
       "      <td>2</td>\n",
       "      <td>0.057851</td>\n",
       "      <td>Fruits and Vegetables</td>\n",
       "      <td>182.0950</td>\n",
       "      <td>0</td>\n",
       "      <td>1998</td>\n",
       "      <td>1</td>\n",
       "      <td>2</td>\n",
       "      <td>0</td>\n",
       "      <td>732.3800</td>\n",
       "      <td>train</td>\n",
       "      <td>0</td>\n",
       "      <td>25</td>\n",
       "    </tr>\n",
       "    <tr>\n",
       "      <th>4</th>\n",
       "      <td>NCD19</td>\n",
       "      <td>8.930</td>\n",
       "      <td>1</td>\n",
       "      <td>0.057851</td>\n",
       "      <td>Household</td>\n",
       "      <td>53.8614</td>\n",
       "      <td>1</td>\n",
       "      <td>1987</td>\n",
       "      <td>0</td>\n",
       "      <td>2</td>\n",
       "      <td>1</td>\n",
       "      <td>994.7052</td>\n",
       "      <td>train</td>\n",
       "      <td>2</td>\n",
       "      <td>36</td>\n",
       "    </tr>\n",
       "    <tr>\n",
       "      <th>5</th>\n",
       "      <td>FDP36</td>\n",
       "      <td>10.395</td>\n",
       "      <td>2</td>\n",
       "      <td>0.057851</td>\n",
       "      <td>Baking Goods</td>\n",
       "      <td>51.4008</td>\n",
       "      <td>3</td>\n",
       "      <td>2009</td>\n",
       "      <td>1</td>\n",
       "      <td>2</td>\n",
       "      <td>2</td>\n",
       "      <td>556.6088</td>\n",
       "      <td>train</td>\n",
       "      <td>0</td>\n",
       "      <td>14</td>\n",
       "    </tr>\n",
       "    <tr>\n",
       "      <th>6</th>\n",
       "      <td>FDO10</td>\n",
       "      <td>13.650</td>\n",
       "      <td>2</td>\n",
       "      <td>0.012741</td>\n",
       "      <td>Snack Foods</td>\n",
       "      <td>57.6588</td>\n",
       "      <td>1</td>\n",
       "      <td>1987</td>\n",
       "      <td>0</td>\n",
       "      <td>2</td>\n",
       "      <td>1</td>\n",
       "      <td>343.5528</td>\n",
       "      <td>train</td>\n",
       "      <td>0</td>\n",
       "      <td>36</td>\n",
       "    </tr>\n",
       "    <tr>\n",
       "      <th>7</th>\n",
       "      <td>FDP10</td>\n",
       "      <td>12.600</td>\n",
       "      <td>0</td>\n",
       "      <td>0.127470</td>\n",
       "      <td>Snack Foods</td>\n",
       "      <td>107.7622</td>\n",
       "      <td>5</td>\n",
       "      <td>1985</td>\n",
       "      <td>1</td>\n",
       "      <td>2</td>\n",
       "      <td>3</td>\n",
       "      <td>4022.7636</td>\n",
       "      <td>train</td>\n",
       "      <td>0</td>\n",
       "      <td>38</td>\n",
       "    </tr>\n",
       "    <tr>\n",
       "      <th>8</th>\n",
       "      <td>FDH17</td>\n",
       "      <td>16.200</td>\n",
       "      <td>2</td>\n",
       "      <td>0.016687</td>\n",
       "      <td>Frozen Foods</td>\n",
       "      <td>96.9726</td>\n",
       "      <td>7</td>\n",
       "      <td>2002</td>\n",
       "      <td>1</td>\n",
       "      <td>1</td>\n",
       "      <td>1</td>\n",
       "      <td>1076.5986</td>\n",
       "      <td>train</td>\n",
       "      <td>0</td>\n",
       "      <td>21</td>\n",
       "    </tr>\n",
       "    <tr>\n",
       "      <th>9</th>\n",
       "      <td>FDU28</td>\n",
       "      <td>19.200</td>\n",
       "      <td>2</td>\n",
       "      <td>0.094450</td>\n",
       "      <td>Frozen Foods</td>\n",
       "      <td>187.8214</td>\n",
       "      <td>2</td>\n",
       "      <td>2007</td>\n",
       "      <td>1</td>\n",
       "      <td>1</td>\n",
       "      <td>1</td>\n",
       "      <td>4710.5350</td>\n",
       "      <td>train</td>\n",
       "      <td>0</td>\n",
       "      <td>16</td>\n",
       "    </tr>\n",
       "  </tbody>\n",
       "</table>\n",
       "</div>"
      ],
      "text/plain": [
       "  Item_Identifier  Item_Weight  Item_Fat_Content  Item_Visibility  \\\n",
       "0           FDA15        9.300                 0         0.016047   \n",
       "1           DRC01        5.920                 2         0.019278   \n",
       "2           FDN15       17.500                 0         0.016760   \n",
       "3           FDX07       19.200                 2         0.057851   \n",
       "4           NCD19        8.930                 1         0.057851   \n",
       "5           FDP36       10.395                 2         0.057851   \n",
       "6           FDO10       13.650                 2         0.012741   \n",
       "7           FDP10       12.600                 0         0.127470   \n",
       "8           FDH17       16.200                 2         0.016687   \n",
       "9           FDU28       19.200                 2         0.094450   \n",
       "\n",
       "               Item_Type  Item_MRP  Outlet_Identifier  \\\n",
       "0                  Dairy  249.8092                  9   \n",
       "1            Soft Drinks   48.2692                  3   \n",
       "2                   Meat  141.6180                  9   \n",
       "3  Fruits and Vegetables  182.0950                  0   \n",
       "4              Household   53.8614                  1   \n",
       "5           Baking Goods   51.4008                  3   \n",
       "6            Snack Foods   57.6588                  1   \n",
       "7            Snack Foods  107.7622                  5   \n",
       "8           Frozen Foods   96.9726                  7   \n",
       "9           Frozen Foods  187.8214                  2   \n",
       "\n",
       "   Outlet_Establishment_Year  Outlet_Size  Outlet_Location_Type  Outlet_Type  \\\n",
       "0                       1999            1                     0            1   \n",
       "1                       2009            1                     2            2   \n",
       "2                       1999            1                     0            1   \n",
       "3                       1998            1                     2            0   \n",
       "4                       1987            0                     2            1   \n",
       "5                       2009            1                     2            2   \n",
       "6                       1987            0                     2            1   \n",
       "7                       1985            1                     2            3   \n",
       "8                       2002            1                     1            1   \n",
       "9                       2007            1                     1            1   \n",
       "\n",
       "   Item_Outlet_Sales source  Item_Categories  Outlet_Period  \n",
       "0          3735.1380  train                0             24  \n",
       "1           443.4228  train                1             14  \n",
       "2          2097.2700  train                0             24  \n",
       "3           732.3800  train                0             25  \n",
       "4           994.7052  train                2             36  \n",
       "5           556.6088  train                0             14  \n",
       "6           343.5528  train                0             36  \n",
       "7          4022.7636  train                0             38  \n",
       "8          1076.5986  train                0             21  \n",
       "9          4710.5350  train                0             16  "
      ]
     },
     "execution_count": 40,
     "metadata": {},
     "output_type": "execute_result"
    }
   ],
   "source": [
    "new_df.head(10)"
   ]
  },
  {
   "cell_type": "code",
   "execution_count": 41,
   "id": "c0e0d3aa-58c8-4667-aa02-b15152cec0c5",
   "metadata": {},
   "outputs": [
    {
     "data": {
      "text/plain": [
       "Item_Identifier               object\n",
       "Item_Weight                  float64\n",
       "Item_Fat_Content               int32\n",
       "Item_Visibility              float64\n",
       "Item_Type                     object\n",
       "Item_MRP                     float64\n",
       "Outlet_Identifier              int32\n",
       "Outlet_Establishment_Year      int64\n",
       "Outlet_Size                    int32\n",
       "Outlet_Location_Type           int32\n",
       "Outlet_Type                    int32\n",
       "Item_Outlet_Sales            float64\n",
       "source                        object\n",
       "Item_Categories                int32\n",
       "Outlet_Period                  int64\n",
       "dtype: object"
      ]
     },
     "execution_count": 41,
     "metadata": {},
     "output_type": "execute_result"
    }
   ],
   "source": [
    "new_df.dtypes"
   ]
  },
  {
   "cell_type": "markdown",
   "id": "5e70cb3f-f995-476d-be30-2c4509209c60",
   "metadata": {},
   "source": [
    "<h3>Eliminationg the Unwanted Columns</h3>"
   ]
  },
  {
   "cell_type": "code",
   "execution_count": 42,
   "id": "162952ce-5a84-4aee-b37a-71f25022aeb8",
   "metadata": {},
   "outputs": [],
   "source": [
    "new_df.drop(['Item_Type','Item_Identifier','Outlet_Establishment_Year'],axis=1,inplace=True)"
   ]
  },
  {
   "cell_type": "markdown",
   "id": "3ca22786-0406-4189-9eb9-9b53472023f4",
   "metadata": {},
   "source": [
    "<h3>Splitting of combined dataset </h3>"
   ]
  },
  {
   "cell_type": "code",
   "execution_count": 43,
   "id": "adb0437c-ce3f-4bc7-b049-23883d2cf04c",
   "metadata": {},
   "outputs": [
    {
     "name": "stderr",
     "output_type": "stream",
     "text": [
      "C:\\Users\\shahb\\AppData\\Local\\Temp\\ipykernel_9332\\125145717.py:4: SettingWithCopyWarning: \n",
      "A value is trying to be set on a copy of a slice from a DataFrame\n",
      "\n",
      "See the caveats in the documentation: https://pandas.pydata.org/pandas-docs/stable/user_guide/indexing.html#returning-a-view-versus-a-copy\n",
      "  test.drop(['Item_Outlet_Sales','source'],axis=1,inplace=True)\n",
      "C:\\Users\\shahb\\AppData\\Local\\Temp\\ipykernel_9332\\125145717.py:5: SettingWithCopyWarning: \n",
      "A value is trying to be set on a copy of a slice from a DataFrame\n",
      "\n",
      "See the caveats in the documentation: https://pandas.pydata.org/pandas-docs/stable/user_guide/indexing.html#returning-a-view-versus-a-copy\n",
      "  train.drop(['source'],axis=1,inplace=True)\n"
     ]
    }
   ],
   "source": [
    "train = new_df.loc[df['source']==\"train\"]\n",
    "test = new_df.loc[df['source']==\"test\"]\n",
    "\n",
    "test.drop(['Item_Outlet_Sales','source'],axis=1,inplace=True)\n",
    "train.drop(['source'],axis=1,inplace=True)\n"
   ]
  },
  {
   "cell_type": "markdown",
   "id": "05641103-12eb-430c-afec-d63ae3eead41",
   "metadata": {},
   "source": [
    "<h3>Saving the Modified Datasets</h3>"
   ]
  },
  {
   "cell_type": "code",
   "execution_count": 44,
   "id": "7394efba-dc8a-4420-8510-fdf8c2099751",
   "metadata": {},
   "outputs": [],
   "source": [
    "train.to_csv(\"train_modified.csv\",index=False)\n",
    "test.to_csv(\"test_modified.csv\",index=False)"
   ]
  },
  {
   "cell_type": "markdown",
   "id": "5be0855d-4183-4dbc-9549-e3cb6df325a0",
   "metadata": {},
   "source": [
    "<h4>Preparing the train and test datasets</h4>"
   ]
  },
  {
   "cell_type": "code",
   "execution_count": 45,
   "id": "baf59902-68c7-4da5-aa51-fb558de561cf",
   "metadata": {},
   "outputs": [
    {
     "name": "stdout",
     "output_type": "stream",
     "text": [
      "(5681, 10)\n",
      "(8523, 11)\n"
     ]
    }
   ],
   "source": [
    "Test1 = pd.read_csv(\"test_modified.csv\")\n",
    "Train1 = pd.read_csv(\"train_modified.csv\")\n",
    "print(Test1.shape)\n",
    "print(Train1.shape)"
   ]
  },
  {
   "cell_type": "code",
   "execution_count": 46,
   "id": "15ae45f0-2a38-4675-abeb-dea78ceb919f",
   "metadata": {},
   "outputs": [],
   "source": [
    "X =Train1.drop('Item_Outlet_Sales',axis = 1)\n",
    "Y =Train1['Item_Outlet_Sales']"
   ]
  },
  {
   "cell_type": "code",
   "execution_count": 47,
   "id": "99122f85-e16b-441e-bf38-bd9db515e6a9",
   "metadata": {},
   "outputs": [
    {
     "data": {
      "text/plain": [
       "0       3735.1380\n",
       "1        443.4228\n",
       "2       2097.2700\n",
       "3        732.3800\n",
       "4        994.7052\n",
       "          ...    \n",
       "8518    2778.3834\n",
       "8519     549.2850\n",
       "8520    1193.1136\n",
       "8521    1845.5976\n",
       "8522     765.6700\n",
       "Name: Item_Outlet_Sales, Length: 8523, dtype: float64"
      ]
     },
     "execution_count": 47,
     "metadata": {},
     "output_type": "execute_result"
    }
   ],
   "source": [
    "Y"
   ]
  },
  {
   "cell_type": "markdown",
   "id": "f6c40a44-eaad-4416-8981-d2f8b97d77f8",
   "metadata": {},
   "source": [
    "<h2>Selection of Model </h2>"
   ]
  },
  {
   "cell_type": "markdown",
   "id": "90c18369-b9f1-4ff5-85ff-efda0ad21d75",
   "metadata": {},
   "source": [
    "<ul><li><b>Random Forest Regressor</b></li>\n",
    "<li><b>XGBOOST</b></li>\n",
    "</ul>"
   ]
  },
  {
   "cell_type": "markdown",
   "id": "98c25d13-df96-47a6-baff-205899a67eee",
   "metadata": {},
   "source": [
    "<ul><li><b>RF is a bagging technique that trains multiple decision trees in parallel and determines the final output via a majority vote.</b></li> <li><b>XGBoost is a boosting technique that sequentially creates decision trees, each tree improving upon the mistakes of the previous one. The final result is a sum of outputs from all the trees.</b></li></ul>"
   ]
  },
  {
   "cell_type": "markdown",
   "id": "566a7538-f1c6-43fe-8a67-30e650f575b9",
   "metadata": {},
   "source": [
    "<h3>Random Forest Regressor</h3>"
   ]
  },
  {
   "cell_type": "code",
   "execution_count": 48,
   "id": "608bc572-488b-440b-adb6-6a4aec32bc54",
   "metadata": {},
   "outputs": [
    {
     "name": "stdout",
     "output_type": "stream",
     "text": [
      "0.5511129936652545\n"
     ]
    }
   ],
   "source": [
    "rg = RandomForestRegressor(n_estimators = 100 ,random_state = 42)\n",
    "score =cross_val_score(rg , X,Y,cv=5,scoring = 'r2')\n",
    "print(score.mean())"
   ]
  },
  {
   "cell_type": "markdown",
   "id": "3c7659cb-5725-4479-b823-b23118a44421",
   "metadata": {},
   "source": [
    "<h3>XGBOOST Model</h3>"
   ]
  },
  {
   "cell_type": "code",
   "execution_count": 49,
   "id": "3c105aee-5dbd-47aa-a81a-3d300ef22408",
   "metadata": {},
   "outputs": [
    {
     "name": "stdout",
     "output_type": "stream",
     "text": [
      "0.595176016286748\n"
     ]
    }
   ],
   "source": [
    "XR = XGBRFRegressor(n_estimators = 100 ,random_state = 42)\n",
    "score =cross_val_score(XR , X,Y,cv=5,scoring = 'r2')\n",
    "print(score.mean())"
   ]
  },
  {
   "cell_type": "markdown",
   "id": "3ba2055f-8cd6-4772-b4d3-aca98b158fc2",
   "metadata": {},
   "source": [
    "<ul><li><b>In general, the higher the R-squared, the better the model fits Our data.</b></li>\n",
    "<li><b>On the basis of R-squared values of the two model I have choosen \"XGBRFRegressor\" for making predictions</b></li></ul>"
   ]
  },
  {
   "cell_type": "markdown",
   "id": "fd160b53-30b8-4ccd-86d9-3f2381b2bae9",
   "metadata": {},
   "source": [
    "<h2>XGBRFRegressor</h2>"
   ]
  },
  {
   "cell_type": "code",
   "execution_count": 50,
   "id": "0241afbe-5669-44d5-866d-9c016c3bffbb",
   "metadata": {},
   "outputs": [
    {
     "data": {
      "text/html": [
       "<div>\n",
       "<style scoped>\n",
       "    .dataframe tbody tr th:only-of-type {\n",
       "        vertical-align: middle;\n",
       "    }\n",
       "\n",
       "    .dataframe tbody tr th {\n",
       "        vertical-align: top;\n",
       "    }\n",
       "\n",
       "    .dataframe thead th {\n",
       "        text-align: right;\n",
       "    }\n",
       "</style>\n",
       "<table border=\"1\" class=\"dataframe\">\n",
       "  <thead>\n",
       "    <tr style=\"text-align: right;\">\n",
       "      <th></th>\n",
       "      <th>Columns</th>\n",
       "      <th>XGBRF_Feature_Importance</th>\n",
       "    </tr>\n",
       "  </thead>\n",
       "  <tbody>\n",
       "    <tr>\n",
       "      <th>7</th>\n",
       "      <td>Outlet_Type</td>\n",
       "      <td>0.456401</td>\n",
       "    </tr>\n",
       "    <tr>\n",
       "      <th>9</th>\n",
       "      <td>Outlet_Period</td>\n",
       "      <td>0.231345</td>\n",
       "    </tr>\n",
       "    <tr>\n",
       "      <th>3</th>\n",
       "      <td>Item_MRP</td>\n",
       "      <td>0.152549</td>\n",
       "    </tr>\n",
       "    <tr>\n",
       "      <th>4</th>\n",
       "      <td>Outlet_Identifier</td>\n",
       "      <td>0.119522</td>\n",
       "    </tr>\n",
       "    <tr>\n",
       "      <th>5</th>\n",
       "      <td>Outlet_Size</td>\n",
       "      <td>0.030170</td>\n",
       "    </tr>\n",
       "    <tr>\n",
       "      <th>6</th>\n",
       "      <td>Outlet_Location_Type</td>\n",
       "      <td>0.003823</td>\n",
       "    </tr>\n",
       "    <tr>\n",
       "      <th>2</th>\n",
       "      <td>Item_Visibility</td>\n",
       "      <td>0.003160</td>\n",
       "    </tr>\n",
       "    <tr>\n",
       "      <th>0</th>\n",
       "      <td>Item_Weight</td>\n",
       "      <td>0.001272</td>\n",
       "    </tr>\n",
       "    <tr>\n",
       "      <th>8</th>\n",
       "      <td>Item_Categories</td>\n",
       "      <td>0.000899</td>\n",
       "    </tr>\n",
       "    <tr>\n",
       "      <th>1</th>\n",
       "      <td>Item_Fat_Content</td>\n",
       "      <td>0.000859</td>\n",
       "    </tr>\n",
       "  </tbody>\n",
       "</table>\n",
       "</div>"
      ],
      "text/plain": [
       "                Columns  XGBRF_Feature_Importance\n",
       "7           Outlet_Type                  0.456401\n",
       "9         Outlet_Period                  0.231345\n",
       "3              Item_MRP                  0.152549\n",
       "4     Outlet_Identifier                  0.119522\n",
       "5           Outlet_Size                  0.030170\n",
       "6  Outlet_Location_Type                  0.003823\n",
       "2       Item_Visibility                  0.003160\n",
       "0           Item_Weight                  0.001272\n",
       "8       Item_Categories                  0.000899\n",
       "1      Item_Fat_Content                  0.000859"
      ]
     },
     "execution_count": 50,
     "metadata": {},
     "output_type": "execute_result"
    }
   ],
   "source": [
    "#Selecting the best features that can best explain the target variables by using feature_importances_ attributes\n",
    "\n",
    "XR = XGBRFRegressor(n_estimators = 100 ,random_state = 42)\n",
    "XR1 = XR.fit(X,Y)\n",
    "pd.DataFrame({\n",
    "    'Columns':X.columns,\n",
    "    'XGBRF_Feature_Importance':XR1.feature_importances_\n",
    "}).sort_values(by=\"XGBRF_Feature_Importance\",ascending = False)"
   ]
  },
  {
   "cell_type": "code",
   "execution_count": 51,
   "id": "294b9f50-a162-45e0-8e42-2244f4c28a02",
   "metadata": {},
   "outputs": [
    {
     "data": {
      "text/plain": [
       "Index(['Item_Weight', 'Item_Fat_Content', 'Item_Visibility', 'Item_MRP',\n",
       "       'Outlet_Identifier', 'Outlet_Size', 'Outlet_Location_Type',\n",
       "       'Outlet_Type', 'Item_Categories', 'Outlet_Period'],\n",
       "      dtype='object')"
      ]
     },
     "execution_count": 51,
     "metadata": {},
     "output_type": "execute_result"
    }
   ],
   "source": [
    "X.columns"
   ]
  },
  {
   "cell_type": "code",
   "execution_count": 52,
   "id": "76e4fde5-6070-4a49-ab34-ecb159c0e6f7",
   "metadata": {},
   "outputs": [
    {
     "name": "stdout",
     "output_type": "stream",
     "text": [
      "0.595753656148649\n"
     ]
    }
   ],
   "source": [
    "XR = XGBRFRegressor(n_estimators = 100 ,random_state = 42)\n",
    "score =cross_val_score(XR1,X.drop(['Item_Weight','Item_Categories','Item_Fat_Content'],axis = 1),Y,cv=5,scoring = 'r2')\n",
    "print(score.mean())"
   ]
  },
  {
   "cell_type": "code",
   "execution_count": 53,
   "id": "6185dd93-b97e-4e89-9c43-b488b7633596",
   "metadata": {},
   "outputs": [],
   "source": [
    "final_Result = X.drop(['Item_Weight','Item_Categories','Item_Fat_Content'],axis = 1)"
   ]
  },
  {
   "cell_type": "code",
   "execution_count": 54,
   "id": "b95cc37c-f633-4501-85a4-0de5a2473b02",
   "metadata": {
    "scrolled": true
   },
   "outputs": [
    {
     "data": {
      "text/html": [
       "<div>\n",
       "<style scoped>\n",
       "    .dataframe tbody tr th:only-of-type {\n",
       "        vertical-align: middle;\n",
       "    }\n",
       "\n",
       "    .dataframe tbody tr th {\n",
       "        vertical-align: top;\n",
       "    }\n",
       "\n",
       "    .dataframe thead th {\n",
       "        text-align: right;\n",
       "    }\n",
       "</style>\n",
       "<table border=\"1\" class=\"dataframe\">\n",
       "  <thead>\n",
       "    <tr style=\"text-align: right;\">\n",
       "      <th></th>\n",
       "      <th>Item_Visibility</th>\n",
       "      <th>Item_MRP</th>\n",
       "      <th>Outlet_Identifier</th>\n",
       "      <th>Outlet_Size</th>\n",
       "      <th>Outlet_Location_Type</th>\n",
       "      <th>Outlet_Type</th>\n",
       "      <th>Outlet_Period</th>\n",
       "    </tr>\n",
       "  </thead>\n",
       "  <tbody>\n",
       "    <tr>\n",
       "      <th>0</th>\n",
       "      <td>0.016047</td>\n",
       "      <td>249.8092</td>\n",
       "      <td>9</td>\n",
       "      <td>1</td>\n",
       "      <td>0</td>\n",
       "      <td>1</td>\n",
       "      <td>24</td>\n",
       "    </tr>\n",
       "    <tr>\n",
       "      <th>1</th>\n",
       "      <td>0.019278</td>\n",
       "      <td>48.2692</td>\n",
       "      <td>3</td>\n",
       "      <td>1</td>\n",
       "      <td>2</td>\n",
       "      <td>2</td>\n",
       "      <td>14</td>\n",
       "    </tr>\n",
       "    <tr>\n",
       "      <th>2</th>\n",
       "      <td>0.016760</td>\n",
       "      <td>141.6180</td>\n",
       "      <td>9</td>\n",
       "      <td>1</td>\n",
       "      <td>0</td>\n",
       "      <td>1</td>\n",
       "      <td>24</td>\n",
       "    </tr>\n",
       "    <tr>\n",
       "      <th>3</th>\n",
       "      <td>0.057851</td>\n",
       "      <td>182.0950</td>\n",
       "      <td>0</td>\n",
       "      <td>1</td>\n",
       "      <td>2</td>\n",
       "      <td>0</td>\n",
       "      <td>25</td>\n",
       "    </tr>\n",
       "    <tr>\n",
       "      <th>4</th>\n",
       "      <td>0.057851</td>\n",
       "      <td>53.8614</td>\n",
       "      <td>1</td>\n",
       "      <td>0</td>\n",
       "      <td>2</td>\n",
       "      <td>1</td>\n",
       "      <td>36</td>\n",
       "    </tr>\n",
       "    <tr>\n",
       "      <th>...</th>\n",
       "      <td>...</td>\n",
       "      <td>...</td>\n",
       "      <td>...</td>\n",
       "      <td>...</td>\n",
       "      <td>...</td>\n",
       "      <td>...</td>\n",
       "      <td>...</td>\n",
       "    </tr>\n",
       "    <tr>\n",
       "      <th>8518</th>\n",
       "      <td>0.056783</td>\n",
       "      <td>214.5218</td>\n",
       "      <td>1</td>\n",
       "      <td>0</td>\n",
       "      <td>2</td>\n",
       "      <td>1</td>\n",
       "      <td>36</td>\n",
       "    </tr>\n",
       "    <tr>\n",
       "      <th>8519</th>\n",
       "      <td>0.046982</td>\n",
       "      <td>108.1570</td>\n",
       "      <td>7</td>\n",
       "      <td>1</td>\n",
       "      <td>1</td>\n",
       "      <td>1</td>\n",
       "      <td>21</td>\n",
       "    </tr>\n",
       "    <tr>\n",
       "      <th>8520</th>\n",
       "      <td>0.035186</td>\n",
       "      <td>85.1224</td>\n",
       "      <td>6</td>\n",
       "      <td>2</td>\n",
       "      <td>1</td>\n",
       "      <td>1</td>\n",
       "      <td>19</td>\n",
       "    </tr>\n",
       "    <tr>\n",
       "      <th>8521</th>\n",
       "      <td>0.145221</td>\n",
       "      <td>103.1332</td>\n",
       "      <td>3</td>\n",
       "      <td>1</td>\n",
       "      <td>2</td>\n",
       "      <td>2</td>\n",
       "      <td>14</td>\n",
       "    </tr>\n",
       "    <tr>\n",
       "      <th>8522</th>\n",
       "      <td>0.044878</td>\n",
       "      <td>75.4670</td>\n",
       "      <td>8</td>\n",
       "      <td>2</td>\n",
       "      <td>0</td>\n",
       "      <td>1</td>\n",
       "      <td>26</td>\n",
       "    </tr>\n",
       "  </tbody>\n",
       "</table>\n",
       "<p>8523 rows × 7 columns</p>\n",
       "</div>"
      ],
      "text/plain": [
       "      Item_Visibility  Item_MRP  Outlet_Identifier  Outlet_Size  \\\n",
       "0            0.016047  249.8092                  9            1   \n",
       "1            0.019278   48.2692                  3            1   \n",
       "2            0.016760  141.6180                  9            1   \n",
       "3            0.057851  182.0950                  0            1   \n",
       "4            0.057851   53.8614                  1            0   \n",
       "...               ...       ...                ...          ...   \n",
       "8518         0.056783  214.5218                  1            0   \n",
       "8519         0.046982  108.1570                  7            1   \n",
       "8520         0.035186   85.1224                  6            2   \n",
       "8521         0.145221  103.1332                  3            1   \n",
       "8522         0.044878   75.4670                  8            2   \n",
       "\n",
       "      Outlet_Location_Type  Outlet_Type  Outlet_Period  \n",
       "0                        0            1             24  \n",
       "1                        2            2             14  \n",
       "2                        0            1             24  \n",
       "3                        2            0             25  \n",
       "4                        2            1             36  \n",
       "...                    ...          ...            ...  \n",
       "8518                     2            1             36  \n",
       "8519                     1            1             21  \n",
       "8520                     1            1             19  \n",
       "8521                     2            2             14  \n",
       "8522                     0            1             26  \n",
       "\n",
       "[8523 rows x 7 columns]"
      ]
     },
     "execution_count": 54,
     "metadata": {},
     "output_type": "execute_result"
    }
   ],
   "source": [
    "final_Result"
   ]
  },
  {
   "cell_type": "markdown",
   "id": "8c20fc2a-ec41-42b0-bad4-220966b59b76",
   "metadata": {},
   "source": [
    "<h2>Model Building Using XGBRFRegressor</h2>"
   ]
  },
  {
   "cell_type": "code",
   "execution_count": 55,
   "id": "b51f284d-07da-40ae-bb2c-43558b425447",
   "metadata": {},
   "outputs": [],
   "source": [
    "xR_final = XGBRFRegressor()"
   ]
  },
  {
   "cell_type": "code",
   "execution_count": 56,
   "id": "dcdcdcb7-1512-4e18-b1cd-c3552189ac04",
   "metadata": {},
   "outputs": [
    {
     "data": {
      "text/html": [
       "<style>#sk-container-id-1 {color: black;}#sk-container-id-1 pre{padding: 0;}#sk-container-id-1 div.sk-toggleable {background-color: white;}#sk-container-id-1 label.sk-toggleable__label {cursor: pointer;display: block;width: 100%;margin-bottom: 0;padding: 0.3em;box-sizing: border-box;text-align: center;}#sk-container-id-1 label.sk-toggleable__label-arrow:before {content: \"▸\";float: left;margin-right: 0.25em;color: #696969;}#sk-container-id-1 label.sk-toggleable__label-arrow:hover:before {color: black;}#sk-container-id-1 div.sk-estimator:hover label.sk-toggleable__label-arrow:before {color: black;}#sk-container-id-1 div.sk-toggleable__content {max-height: 0;max-width: 0;overflow: hidden;text-align: left;background-color: #f0f8ff;}#sk-container-id-1 div.sk-toggleable__content pre {margin: 0.2em;color: black;border-radius: 0.25em;background-color: #f0f8ff;}#sk-container-id-1 input.sk-toggleable__control:checked~div.sk-toggleable__content {max-height: 200px;max-width: 100%;overflow: auto;}#sk-container-id-1 input.sk-toggleable__control:checked~label.sk-toggleable__label-arrow:before {content: \"▾\";}#sk-container-id-1 div.sk-estimator input.sk-toggleable__control:checked~label.sk-toggleable__label {background-color: #d4ebff;}#sk-container-id-1 div.sk-label input.sk-toggleable__control:checked~label.sk-toggleable__label {background-color: #d4ebff;}#sk-container-id-1 input.sk-hidden--visually {border: 0;clip: rect(1px 1px 1px 1px);clip: rect(1px, 1px, 1px, 1px);height: 1px;margin: -1px;overflow: hidden;padding: 0;position: absolute;width: 1px;}#sk-container-id-1 div.sk-estimator {font-family: monospace;background-color: #f0f8ff;border: 1px dotted black;border-radius: 0.25em;box-sizing: border-box;margin-bottom: 0.5em;}#sk-container-id-1 div.sk-estimator:hover {background-color: #d4ebff;}#sk-container-id-1 div.sk-parallel-item::after {content: \"\";width: 100%;border-bottom: 1px solid gray;flex-grow: 1;}#sk-container-id-1 div.sk-label:hover label.sk-toggleable__label {background-color: #d4ebff;}#sk-container-id-1 div.sk-serial::before {content: \"\";position: absolute;border-left: 1px solid gray;box-sizing: border-box;top: 0;bottom: 0;left: 50%;z-index: 0;}#sk-container-id-1 div.sk-serial {display: flex;flex-direction: column;align-items: center;background-color: white;padding-right: 0.2em;padding-left: 0.2em;position: relative;}#sk-container-id-1 div.sk-item {position: relative;z-index: 1;}#sk-container-id-1 div.sk-parallel {display: flex;align-items: stretch;justify-content: center;background-color: white;position: relative;}#sk-container-id-1 div.sk-item::before, #sk-container-id-1 div.sk-parallel-item::before {content: \"\";position: absolute;border-left: 1px solid gray;box-sizing: border-box;top: 0;bottom: 0;left: 50%;z-index: -1;}#sk-container-id-1 div.sk-parallel-item {display: flex;flex-direction: column;z-index: 1;position: relative;background-color: white;}#sk-container-id-1 div.sk-parallel-item:first-child::after {align-self: flex-end;width: 50%;}#sk-container-id-1 div.sk-parallel-item:last-child::after {align-self: flex-start;width: 50%;}#sk-container-id-1 div.sk-parallel-item:only-child::after {width: 0;}#sk-container-id-1 div.sk-dashed-wrapped {border: 1px dashed gray;margin: 0 0.4em 0.5em 0.4em;box-sizing: border-box;padding-bottom: 0.4em;background-color: white;}#sk-container-id-1 div.sk-label label {font-family: monospace;font-weight: bold;display: inline-block;line-height: 1.2em;}#sk-container-id-1 div.sk-label-container {text-align: center;}#sk-container-id-1 div.sk-container {/* jupyter's `normalize.less` sets `[hidden] { display: none; }` but bootstrap.min.css set `[hidden] { display: none !important; }` so we also need the `!important` here to be able to override the default hidden behavior on the sphinx rendered scikit-learn.org. See: https://github.com/scikit-learn/scikit-learn/issues/21755 */display: inline-block !important;position: relative;}#sk-container-id-1 div.sk-text-repr-fallback {display: none;}</style><div id=\"sk-container-id-1\" class=\"sk-top-container\"><div class=\"sk-text-repr-fallback\"><pre>XGBRFRegressor(base_score=None, booster=None, callbacks=None,\n",
       "               colsample_bylevel=None, colsample_bytree=None, device=None,\n",
       "               early_stopping_rounds=None, enable_categorical=False,\n",
       "               eval_metric=None, feature_types=None, gamma=None,\n",
       "               grow_policy=None, importance_type=None,\n",
       "               interaction_constraints=None, max_bin=None,\n",
       "               max_cat_threshold=None, max_cat_to_onehot=None,\n",
       "               max_delta_step=None, max_depth=None, max_leaves=None,\n",
       "               min_child_weight=None, missing=nan, monotone_constraints=None,\n",
       "               multi_strategy=None, n_estimators=None, n_jobs=None,\n",
       "               num_parallel_tree=None, objective=&#x27;reg:squarederror&#x27;,\n",
       "               random_state=None, reg_alpha=None, ...)</pre><b>In a Jupyter environment, please rerun this cell to show the HTML representation or trust the notebook. <br />On GitHub, the HTML representation is unable to render, please try loading this page with nbviewer.org.</b></div><div class=\"sk-container\" hidden><div class=\"sk-item\"><div class=\"sk-estimator sk-toggleable\"><input class=\"sk-toggleable__control sk-hidden--visually\" id=\"sk-estimator-id-1\" type=\"checkbox\" checked><label for=\"sk-estimator-id-1\" class=\"sk-toggleable__label sk-toggleable__label-arrow\">XGBRFRegressor</label><div class=\"sk-toggleable__content\"><pre>XGBRFRegressor(base_score=None, booster=None, callbacks=None,\n",
       "               colsample_bylevel=None, colsample_bytree=None, device=None,\n",
       "               early_stopping_rounds=None, enable_categorical=False,\n",
       "               eval_metric=None, feature_types=None, gamma=None,\n",
       "               grow_policy=None, importance_type=None,\n",
       "               interaction_constraints=None, max_bin=None,\n",
       "               max_cat_threshold=None, max_cat_to_onehot=None,\n",
       "               max_delta_step=None, max_depth=None, max_leaves=None,\n",
       "               min_child_weight=None, missing=nan, monotone_constraints=None,\n",
       "               multi_strategy=None, n_estimators=None, n_jobs=None,\n",
       "               num_parallel_tree=None, objective=&#x27;reg:squarederror&#x27;,\n",
       "               random_state=None, reg_alpha=None, ...)</pre></div></div></div></div></div>"
      ],
      "text/plain": [
       "XGBRFRegressor(base_score=None, booster=None, callbacks=None,\n",
       "               colsample_bylevel=None, colsample_bytree=None, device=None,\n",
       "               early_stopping_rounds=None, enable_categorical=False,\n",
       "               eval_metric=None, feature_types=None, gamma=None,\n",
       "               grow_policy=None, importance_type=None,\n",
       "               interaction_constraints=None, max_bin=None,\n",
       "               max_cat_threshold=None, max_cat_to_onehot=None,\n",
       "               max_delta_step=None, max_depth=None, max_leaves=None,\n",
       "               min_child_weight=None, missing=nan, monotone_constraints=None,\n",
       "               multi_strategy=None, n_estimators=None, n_jobs=None,\n",
       "               num_parallel_tree=None, objective='reg:squarederror',\n",
       "               random_state=None, reg_alpha=None, ...)"
      ]
     },
     "execution_count": 56,
     "metadata": {},
     "output_type": "execute_result"
    }
   ],
   "source": [
    "xR_final.fit(final_Result,Y)"
   ]
  },
  {
   "cell_type": "markdown",
   "id": "6d48f976-0717-471a-8eee-77f0f4684d84",
   "metadata": {},
   "source": [
    "<h2>Training & Predictions </h2>"
   ]
  },
  {
   "cell_type": "code",
   "execution_count": 57,
   "id": "38a50072-4126-4133-a1d5-ee873e5cdaf6",
   "metadata": {},
   "outputs": [],
   "source": [
    "X_train , X_test ,Y_train,Y_test =train_test_split(final_Result,Y,test_size=0.20,random_state=42)"
   ]
  },
  {
   "cell_type": "code",
   "execution_count": 58,
   "id": "f9fbfa6b-02c5-4489-9fd8-76b28e82c82a",
   "metadata": {},
   "outputs": [
    {
     "data": {
      "text/plain": [
       "array([1279.0334 ,  692.6085 ,  696.64703, ...,  670.2119 ,  715.5942 ,\n",
       "       1635.9022 ], dtype=float32)"
      ]
     },
     "execution_count": 58,
     "metadata": {},
     "output_type": "execute_result"
    }
   ],
   "source": [
    "Y_prediction = xR_final.predict(X_test)\n",
    "Y_prediction"
   ]
  },
  {
   "cell_type": "code",
   "execution_count": 59,
   "id": "9d0ebca0-1709-463d-8245-a2f3f65226a7",
   "metadata": {},
   "outputs": [
    {
     "name": "stdout",
     "output_type": "stream",
     "text": [
      "MAE: 703.0768537123407\n"
     ]
    }
   ],
   "source": [
    "print(\"MAE:\",mean_absolute_error(Y_test,Y_prediction))"
   ]
  },
  {
   "cell_type": "code",
   "execution_count": 60,
   "id": "200eea92-9713-4b16-b65f-7f27115b3592",
   "metadata": {},
   "outputs": [
    {
     "name": "stdout",
     "output_type": "stream",
     "text": [
      "R-Sqaured: 0.6286942867701821\n"
     ]
    }
   ],
   "source": [
    "print(\"R-Sqaured:\",r2_score(Y_test,Y_prediction))"
   ]
  },
  {
   "cell_type": "markdown",
   "id": "2eb23c85-b147-4e78-a7d2-09f867c255cd",
   "metadata": {},
   "source": [
    "<h2>Random Predicition</h2>"
   ]
  },
  {
   "cell_type": "code",
   "execution_count": 61,
   "id": "3432ed76-b3d3-4a53-87f2-90e953cf1e02",
   "metadata": {},
   "outputs": [
    {
     "name": "stdout",
     "output_type": "stream",
     "text": [
      "[1029.3853]\n"
     ]
    }
   ],
   "source": [
    "pred = xR_final.predict(np.array([[156.345,2.0,8.9,2.0,24,10,1.0]]))\n",
    "print(pred)"
   ]
  },
  {
   "cell_type": "code",
   "execution_count": 62,
   "id": "65823a2a-17c0-4444-baae-6a7b42e61f24",
   "metadata": {},
   "outputs": [
    {
     "name": "stdout",
     "output_type": "stream",
     "text": [
      "Outlet Sales values will be between [326.31525] and [1732.4553]\n"
     ]
    }
   ],
   "source": [
    "print(f\"Outlet Sales values will be between {pred-703.07} and {pred+703.07}\")"
   ]
  },
  {
   "cell_type": "markdown",
   "id": "c249b084-651b-42cd-9a93-7fff4da7325c",
   "metadata": {},
   "source": [
    "<h2>Saving The Model</h2>"
   ]
  },
  {
   "cell_type": "markdown",
   "id": "e9389f6c-a1f1-42e5-a46e-d24de8ef92a9",
   "metadata": {},
   "source": [
    "<h2><b>Using Joblib</b></h2>"
   ]
  },
  {
   "cell_type": "code",
   "execution_count": 63,
   "id": "ff0c7882-9d5a-431b-aa47-846b2b30779e",
   "metadata": {},
   "outputs": [],
   "source": [
    "import joblib"
   ]
  },
  {
   "cell_type": "code",
   "execution_count": 64,
   "id": "2cd86822-475c-460a-9160-69650a3965fe",
   "metadata": {},
   "outputs": [
    {
     "data": {
      "text/plain": [
       "['BigMart_Sales_Prediction_Model']"
      ]
     },
     "execution_count": 64,
     "metadata": {},
     "output_type": "execute_result"
    }
   ],
   "source": [
    "joblib.dump(xR_final,\"BigMart_Sales_Prediction_Model\")"
   ]
  },
  {
   "cell_type": "code",
   "execution_count": 65,
   "id": "2f4c5735-e31e-454a-9d9f-f28fd2cfb6a6",
   "metadata": {},
   "outputs": [],
   "source": [
    "Model = joblib.load(\"BigMart_Sales_Prediction_Model\")"
   ]
  },
  {
   "cell_type": "markdown",
   "id": "87b09dce-41c5-48cd-984d-a12faf9d8d62",
   "metadata": {},
   "source": [
    "<h3>Random Prediction Using Model</h3>"
   ]
  },
  {
   "cell_type": "code",
   "execution_count": 66,
   "id": "462b67cd-2fbe-463f-9a52-0a4ff112d552",
   "metadata": {},
   "outputs": [
    {
     "data": {
      "text/plain": [
       "604.27014"
      ]
     },
     "execution_count": 66,
     "metadata": {},
     "output_type": "execute_result"
    }
   ],
   "source": [
    " pred =Model.predict(np.array([[1234.45,5.6,1.7,1.2,23,2.1,1.2]]))[0] \n",
    "pred"
   ]
  },
  {
   "cell_type": "markdown",
   "id": "cfc707ff-e0a6-494b-8af4-be0aa8bdde17",
   "metadata": {},
   "source": [
    "<h2>Test Data Prediction Using Model(\"BigMart_Sales_Prediction_Model\")</h2>"
   ]
  },
  {
   "cell_type": "code",
   "execution_count": 67,
   "id": "bc90d209-c8c6-42c3-bcc3-fd7375e2b477",
   "metadata": {},
   "outputs": [],
   "source": [
    "Test1.drop(['Item_Weight','Item_Categories','Item_Fat_Content'],inplace = True ,axis = 1)"
   ]
  },
  {
   "cell_type": "code",
   "execution_count": 68,
   "id": "0aad0c95-b7ee-43f6-836b-bc0cdaad8894",
   "metadata": {},
   "outputs": [],
   "source": [
    "Test1['Outlet_Sales_Item'] = (Model.predict(Test1)).tolist()"
   ]
  },
  {
   "cell_type": "code",
   "execution_count": 69,
   "id": "7521d4bf-2c8a-467e-8796-43e92737f5f9",
   "metadata": {},
   "outputs": [
    {
     "data": {
      "text/html": [
       "<div>\n",
       "<style scoped>\n",
       "    .dataframe tbody tr th:only-of-type {\n",
       "        vertical-align: middle;\n",
       "    }\n",
       "\n",
       "    .dataframe tbody tr th {\n",
       "        vertical-align: top;\n",
       "    }\n",
       "\n",
       "    .dataframe thead th {\n",
       "        text-align: right;\n",
       "    }\n",
       "</style>\n",
       "<table border=\"1\" class=\"dataframe\">\n",
       "  <thead>\n",
       "    <tr style=\"text-align: right;\">\n",
       "      <th></th>\n",
       "      <th>Item_Visibility</th>\n",
       "      <th>Item_MRP</th>\n",
       "      <th>Outlet_Identifier</th>\n",
       "      <th>Outlet_Size</th>\n",
       "      <th>Outlet_Location_Type</th>\n",
       "      <th>Outlet_Type</th>\n",
       "      <th>Outlet_Period</th>\n",
       "      <th>Outlet_Sales_Item</th>\n",
       "    </tr>\n",
       "  </thead>\n",
       "  <tbody>\n",
       "    <tr>\n",
       "      <th>0</th>\n",
       "      <td>0.007565</td>\n",
       "      <td>107.8622</td>\n",
       "      <td>9</td>\n",
       "      <td>1</td>\n",
       "      <td>0</td>\n",
       "      <td>1</td>\n",
       "      <td>24</td>\n",
       "      <td>1628.367065</td>\n",
       "    </tr>\n",
       "    <tr>\n",
       "      <th>1</th>\n",
       "      <td>0.038428</td>\n",
       "      <td>87.3198</td>\n",
       "      <td>2</td>\n",
       "      <td>1</td>\n",
       "      <td>1</td>\n",
       "      <td>1</td>\n",
       "      <td>16</td>\n",
       "      <td>1486.018921</td>\n",
       "    </tr>\n",
       "    <tr>\n",
       "      <th>2</th>\n",
       "      <td>0.099575</td>\n",
       "      <td>241.7538</td>\n",
       "      <td>0</td>\n",
       "      <td>1</td>\n",
       "      <td>2</td>\n",
       "      <td>0</td>\n",
       "      <td>25</td>\n",
       "      <td>548.299988</td>\n",
       "    </tr>\n",
       "    <tr>\n",
       "      <th>3</th>\n",
       "      <td>0.015388</td>\n",
       "      <td>155.0340</td>\n",
       "      <td>2</td>\n",
       "      <td>1</td>\n",
       "      <td>1</td>\n",
       "      <td>1</td>\n",
       "      <td>16</td>\n",
       "      <td>2633.281250</td>\n",
       "    </tr>\n",
       "    <tr>\n",
       "      <th>4</th>\n",
       "      <td>0.118599</td>\n",
       "      <td>234.2300</td>\n",
       "      <td>5</td>\n",
       "      <td>1</td>\n",
       "      <td>2</td>\n",
       "      <td>3</td>\n",
       "      <td>38</td>\n",
       "      <td>6011.706055</td>\n",
       "    </tr>\n",
       "  </tbody>\n",
       "</table>\n",
       "</div>"
      ],
      "text/plain": [
       "   Item_Visibility  Item_MRP  Outlet_Identifier  Outlet_Size  \\\n",
       "0         0.007565  107.8622                  9            1   \n",
       "1         0.038428   87.3198                  2            1   \n",
       "2         0.099575  241.7538                  0            1   \n",
       "3         0.015388  155.0340                  2            1   \n",
       "4         0.118599  234.2300                  5            1   \n",
       "\n",
       "   Outlet_Location_Type  Outlet_Type  Outlet_Period  Outlet_Sales_Item  \n",
       "0                     0            1             24        1628.367065  \n",
       "1                     1            1             16        1486.018921  \n",
       "2                     2            0             25         548.299988  \n",
       "3                     1            1             16        2633.281250  \n",
       "4                     2            3             38        6011.706055  "
      ]
     },
     "execution_count": 69,
     "metadata": {},
     "output_type": "execute_result"
    }
   ],
   "source": [
    "Test1.head()"
   ]
  },
  {
   "cell_type": "code",
   "execution_count": 70,
   "id": "91907371-2305-415b-9db5-f65505c0b986",
   "metadata": {},
   "outputs": [
    {
     "data": {
      "image/png": "[encoded data removed]",
      "text/plain": [
       "<Figure size 640x480 with 1 Axes>"
      ]
     },
     "metadata": {},
     "output_type": "display_data"
    },
    {
     "name": "stdout",
     "output_type": "stream",
     "text": [
      "Outlet_Identifier\n",
      "0    1.262640e+05\n",
      "1    1.420072e+06\n",
      "2    1.450671e+06\n",
      "3    1.265992e+06\n",
      "4    1.223576e+05\n",
      "5    2.333995e+06\n",
      "6    1.402767e+06\n",
      "7    1.416215e+06\n",
      "8    1.402400e+06\n",
      "9    1.440644e+06\n",
      "Name: Outlet_Sales_Item, dtype: float64\n"
     ]
    }
   ],
   "source": [
    "Outlet_ID= Test1.groupby('Outlet_Identifier')\n",
    "Item_Outlet_sales = Outlet_ID.sum()['Outlet_Sales_Item']\n",
    "keys = [i for i, j in Outlet_ID]\n",
    "plt.barh(keys,Item_Outlet_sales,edgecolor = 'black',color='Teal')\n",
    "plt.yticks(keys, rotation='horizontal', size=8)\n",
    "plt.title(\"Sales Production by Each Store\")\n",
    "plt.show()\n",
    "print(Item_Outlet_sales)"
   ]
  },
  {
   "cell_type": "code",
   "execution_count": 71,
   "id": "b3423004-4519-4f26-8642-73d0a2609b6b",
   "metadata": {},
   "outputs": [],
   "source": [
    "#Saving the output\n",
    "Test1.to_csv('Test_Output.csv',index=False)"
   ]
  }
 ],
 "metadata": {
  "kernelspec": {
   "display_name": "Python 3 (ipykernel)",
   "language": "python",
   "name": "python3"
  },
  "language_info": {
   "codemirror_mode": {
    "name": "ipython",
    "version": 3
   },
   "file_extension": ".py",
   "mimetype": "text/x-python",
   "name": "python",
   "nbconvert_exporter": "python",
   "pygments_lexer": "ipython3",
   "version": "3.12.0"
  }
 },
 "nbformat": 4,
 "nbformat_minor": 5
}
